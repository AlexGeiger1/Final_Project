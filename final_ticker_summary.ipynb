{
 "cells": [
  {
   "cell_type": "code",
   "execution_count": 1,
   "id": "346911f9",
   "metadata": {},
   "outputs": [],
   "source": [
    "import pandas as pd\n",
    "import numpy as np"
   ]
  },
  {
   "cell_type": "code",
   "execution_count": 2,
   "id": "cfcfc42f",
   "metadata": {},
   "outputs": [],
   "source": [
    "# File to load\n",
    "final_ticker_data_to_load = \"final_ticker_data.csv\""
   ]
  },
  {
   "cell_type": "code",
   "execution_count": 3,
   "id": "74930f69",
   "metadata": {},
   "outputs": [
    {
     "data": {
      "text/html": [
       "<div>\n",
       "<style scoped>\n",
       "    .dataframe tbody tr th:only-of-type {\n",
       "        vertical-align: middle;\n",
       "    }\n",
       "\n",
       "    .dataframe tbody tr th {\n",
       "        vertical-align: top;\n",
       "    }\n",
       "\n",
       "    .dataframe thead th {\n",
       "        text-align: right;\n",
       "    }\n",
       "</style>\n",
       "<table border=\"1\" class=\"dataframe\">\n",
       "  <thead>\n",
       "    <tr style=\"text-align: right;\">\n",
       "      <th></th>\n",
       "      <th>Year</th>\n",
       "      <th>GICS_Sector</th>\n",
       "      <th>Ticker</th>\n",
       "      <th>Avg_Daily_Close_Change</th>\n",
       "      <th>Avg_Adj_Close</th>\n",
       "    </tr>\n",
       "  </thead>\n",
       "  <tbody>\n",
       "    <tr>\n",
       "      <th>0</th>\n",
       "      <td>2013</td>\n",
       "      <td>Communication Services</td>\n",
       "      <td>DIS</td>\n",
       "      <td>0.001813</td>\n",
       "      <td>57.213066</td>\n",
       "    </tr>\n",
       "    <tr>\n",
       "      <th>1</th>\n",
       "      <td>2013</td>\n",
       "      <td>Communication Services</td>\n",
       "      <td>DISH</td>\n",
       "      <td>0.001965</td>\n",
       "      <td>42.985992</td>\n",
       "    </tr>\n",
       "    <tr>\n",
       "      <th>2</th>\n",
       "      <td>2013</td>\n",
       "      <td>Communication Services</td>\n",
       "      <td>EA</td>\n",
       "      <td>0.002103</td>\n",
       "      <td>21.654790</td>\n",
       "    </tr>\n",
       "    <tr>\n",
       "      <th>3</th>\n",
       "      <td>2013</td>\n",
       "      <td>Communication Services</td>\n",
       "      <td>GOOGL</td>\n",
       "      <td>0.001919</td>\n",
       "      <td>442.563933</td>\n",
       "    </tr>\n",
       "    <tr>\n",
       "      <th>4</th>\n",
       "      <td>2013</td>\n",
       "      <td>Communication Services</td>\n",
       "      <td>LUMN</td>\n",
       "      <td>-0.000377</td>\n",
       "      <td>16.635402</td>\n",
       "    </tr>\n",
       "    <tr>\n",
       "      <th>...</th>\n",
       "      <td>...</td>\n",
       "      <td>...</td>\n",
       "      <td>...</td>\n",
       "      <td>...</td>\n",
       "      <td>...</td>\n",
       "    </tr>\n",
       "    <tr>\n",
       "      <th>1051</th>\n",
       "      <td>2020</td>\n",
       "      <td>Utilities</td>\n",
       "      <td>EXC</td>\n",
       "      <td>0.000375</td>\n",
       "      <td>27.024073</td>\n",
       "    </tr>\n",
       "    <tr>\n",
       "      <th>1052</th>\n",
       "      <td>2020</td>\n",
       "      <td>Utilities</td>\n",
       "      <td>NEE</td>\n",
       "      <td>0.001381</td>\n",
       "      <td>64.396236</td>\n",
       "    </tr>\n",
       "    <tr>\n",
       "      <th>1053</th>\n",
       "      <td>2020</td>\n",
       "      <td>Utilities</td>\n",
       "      <td>PEG</td>\n",
       "      <td>0.000416</td>\n",
       "      <td>50.990339</td>\n",
       "    </tr>\n",
       "    <tr>\n",
       "      <th>1054</th>\n",
       "      <td>2020</td>\n",
       "      <td>Utilities</td>\n",
       "      <td>SO</td>\n",
       "      <td>0.000438</td>\n",
       "      <td>54.000639</td>\n",
       "    </tr>\n",
       "    <tr>\n",
       "      <th>1055</th>\n",
       "      <td>2020</td>\n",
       "      <td>Utilities</td>\n",
       "      <td>XEL</td>\n",
       "      <td>0.000599</td>\n",
       "      <td>64.663301</td>\n",
       "    </tr>\n",
       "  </tbody>\n",
       "</table>\n",
       "<p>1056 rows × 5 columns</p>\n",
       "</div>"
      ],
      "text/plain": [
       "      Year             GICS_Sector Ticker  Avg_Daily_Close_Change  \\\n",
       "0     2013  Communication Services    DIS                0.001813   \n",
       "1     2013  Communication Services   DISH                0.001965   \n",
       "2     2013  Communication Services     EA                0.002103   \n",
       "3     2013  Communication Services  GOOGL                0.001919   \n",
       "4     2013  Communication Services   LUMN               -0.000377   \n",
       "...    ...                     ...    ...                     ...   \n",
       "1051  2020               Utilities    EXC                0.000375   \n",
       "1052  2020               Utilities    NEE                0.001381   \n",
       "1053  2020               Utilities    PEG                0.000416   \n",
       "1054  2020               Utilities     SO                0.000438   \n",
       "1055  2020               Utilities    XEL                0.000599   \n",
       "\n",
       "      Avg_Adj_Close  \n",
       "0         57.213066  \n",
       "1         42.985992  \n",
       "2         21.654790  \n",
       "3        442.563933  \n",
       "4         16.635402  \n",
       "...             ...  \n",
       "1051      27.024073  \n",
       "1052      64.396236  \n",
       "1053      50.990339  \n",
       "1054      54.000639  \n",
       "1055      64.663301  \n",
       "\n",
       "[1056 rows x 5 columns]"
      ]
     },
     "execution_count": 3,
     "metadata": {},
     "output_type": "execute_result"
    }
   ],
   "source": [
    "# Read the final Ticker data and store into a Panda DataFrame\n",
    "final_ticker_data_df = pd.read_csv(final_ticker_data_to_load)\n",
    "final_ticker_data_df"
   ]
  },
  {
   "cell_type": "code",
   "execution_count": 5,
   "id": "0ee2f518",
   "metadata": {},
   "outputs": [
    {
     "data": {
      "text/plain": [
       "Year                      1056\n",
       "GICS_Sector               1056\n",
       "Ticker                    1056\n",
       "Avg_Daily_Close_Change    1056\n",
       "Avg_Adj_Close             1056\n",
       "dtype: int64"
      ]
     },
     "execution_count": 5,
     "metadata": {},
     "output_type": "execute_result"
    }
   ],
   "source": [
    "# Get the columns and the rows that are not null\n",
    "final_ticker_data_df.count()"
   ]
  },
  {
   "cell_type": "code",
   "execution_count": 6,
   "id": "25faf85e",
   "metadata": {},
   "outputs": [
    {
     "data": {
      "text/html": [
       "<div>\n",
       "<style scoped>\n",
       "    .dataframe tbody tr th:only-of-type {\n",
       "        vertical-align: middle;\n",
       "    }\n",
       "\n",
       "    .dataframe tbody tr th {\n",
       "        vertical-align: top;\n",
       "    }\n",
       "\n",
       "    .dataframe thead th {\n",
       "        text-align: right;\n",
       "    }\n",
       "</style>\n",
       "<table border=\"1\" class=\"dataframe\">\n",
       "  <thead>\n",
       "    <tr style=\"text-align: right;\">\n",
       "      <th></th>\n",
       "      <th>Year</th>\n",
       "      <th>Avg_Daily_Close_Change</th>\n",
       "      <th>Avg_Adj_Close</th>\n",
       "    </tr>\n",
       "  </thead>\n",
       "  <tbody>\n",
       "    <tr>\n",
       "      <th>count</th>\n",
       "      <td>1056.000000</td>\n",
       "      <td>1056.000000</td>\n",
       "      <td>1056.000000</td>\n",
       "    </tr>\n",
       "    <tr>\n",
       "      <th>mean</th>\n",
       "      <td>2016.500000</td>\n",
       "      <td>0.000714</td>\n",
       "      <td>87.791859</td>\n",
       "    </tr>\n",
       "    <tr>\n",
       "      <th>std</th>\n",
       "      <td>2.292374</td>\n",
       "      <td>0.001006</td>\n",
       "      <td>148.356407</td>\n",
       "    </tr>\n",
       "    <tr>\n",
       "      <th>min</th>\n",
       "      <td>2013.000000</td>\n",
       "      <td>-0.003682</td>\n",
       "      <td>8.018033</td>\n",
       "    </tr>\n",
       "    <tr>\n",
       "      <th>25%</th>\n",
       "      <td>2014.750000</td>\n",
       "      <td>0.000157</td>\n",
       "      <td>35.767154</td>\n",
       "    </tr>\n",
       "    <tr>\n",
       "      <th>50%</th>\n",
       "      <td>2016.500000</td>\n",
       "      <td>0.000716</td>\n",
       "      <td>56.685813</td>\n",
       "    </tr>\n",
       "    <tr>\n",
       "      <th>75%</th>\n",
       "      <td>2018.250000</td>\n",
       "      <td>0.001282</td>\n",
       "      <td>96.518807</td>\n",
       "    </tr>\n",
       "    <tr>\n",
       "      <th>max</th>\n",
       "      <td>2020.000000</td>\n",
       "      <td>0.010047</td>\n",
       "      <td>2680.855096</td>\n",
       "    </tr>\n",
       "  </tbody>\n",
       "</table>\n",
       "</div>"
      ],
      "text/plain": [
       "              Year  Avg_Daily_Close_Change  Avg_Adj_Close\n",
       "count  1056.000000             1056.000000    1056.000000\n",
       "mean   2016.500000                0.000714      87.791859\n",
       "std       2.292374                0.001006     148.356407\n",
       "min    2013.000000               -0.003682       8.018033\n",
       "25%    2014.750000                0.000157      35.767154\n",
       "50%    2016.500000                0.000716      56.685813\n",
       "75%    2018.250000                0.001282      96.518807\n",
       "max    2020.000000                0.010047    2680.855096"
      ]
     },
     "execution_count": 6,
     "metadata": {},
     "output_type": "execute_result"
    }
   ],
   "source": [
    "# Describe DataFrame\n",
    "final_ticker_data_df.describe()"
   ]
  },
  {
   "cell_type": "code",
   "execution_count": 7,
   "id": "623329e8",
   "metadata": {},
   "outputs": [],
   "source": [
    "### Ticker summary"
   ]
  },
  {
   "cell_type": "code",
   "execution_count": 8,
   "id": "1205ab0e",
   "metadata": {
    "scrolled": true
   },
   "outputs": [
    {
     "data": {
      "text/plain": [
       "11"
      ]
     },
     "execution_count": 8,
     "metadata": {},
     "output_type": "execute_result"
    }
   ],
   "source": [
    "# Calculate Total GICS_Sector\n",
    "sector_count = len(final_ticker_data_df[\"GICS_Sector\"].unique())\n",
    "sector_count"
   ]
  },
  {
   "cell_type": "code",
   "execution_count": 9,
   "id": "40acd54c",
   "metadata": {},
   "outputs": [
    {
     "data": {
      "text/plain": [
       "132"
      ]
     },
     "execution_count": 9,
     "metadata": {},
     "output_type": "execute_result"
    }
   ],
   "source": [
    "# Calculate Total Ticker \n",
    "ticker_count = len(final_ticker_data_df[\"Ticker\"].unique())\n",
    "ticker_count"
   ]
  },
  {
   "cell_type": "code",
   "execution_count": 10,
   "id": "1bd10e94",
   "metadata": {},
   "outputs": [
    {
     "data": {
      "text/plain": [
       "0.0007136954312981292"
      ]
     },
     "execution_count": 10,
     "metadata": {},
     "output_type": "execute_result"
    }
   ],
   "source": [
    "# Calculate the Average Avg_Daily_Close_Change\n",
    "average_daily_close_change = final_ticker_data_df[\"Avg_Daily_Close_Change\"].mean()\n",
    "average_daily_close_change"
   ]
  },
  {
   "cell_type": "code",
   "execution_count": 11,
   "id": "6218d211",
   "metadata": {},
   "outputs": [
    {
     "data": {
      "text/plain": [
       "GICS_Sector\n",
       "Communication Services    0.000982\n",
       "Consumer Discretionary    0.000982\n",
       "Consumer Staples          0.000556\n",
       "Energy                    0.000188\n",
       "Financials                0.000604\n",
       "Health Care               0.000956\n",
       "Industrials               0.000750\n",
       "Information Technology    0.001166\n",
       "Materials                 0.000619\n",
       "Real Estate               0.000436\n",
       "Utilities                 0.000610\n",
       "Name: Avg_Daily_Close_Change, dtype: float64"
      ]
     },
     "execution_count": 11,
     "metadata": {},
     "output_type": "execute_result"
    }
   ],
   "source": [
    "# Calculate the Average Avg_Daily_Close_Change group by GICS_Sector\n",
    "average_daily_close_change_by_sector = final_ticker_data_df.groupby([\"GICS_Sector\"]).mean()[\"Avg_Daily_Close_Change\"]\n",
    "average_daily_close_change_by_sector"
   ]
  },
  {
   "cell_type": "code",
   "execution_count": 12,
   "id": "b188a7e6",
   "metadata": {},
   "outputs": [
    {
     "data": {
      "text/plain": [
       "Year\n",
       "2013    0.001361\n",
       "2014    0.000775\n",
       "2015    0.000167\n",
       "2016    0.000730\n",
       "2017    0.000763\n",
       "2018   -0.000070\n",
       "2019    0.001086\n",
       "2020    0.000897\n",
       "Name: Avg_Daily_Close_Change, dtype: float64"
      ]
     },
     "execution_count": 12,
     "metadata": {},
     "output_type": "execute_result"
    }
   ],
   "source": [
    "# Calculate the Average Avg_Daily_Close_Change group by Year\n",
    "average_daily_close_change_by_year = final_ticker_data_df.groupby([\"Year\"]).mean()[\"Avg_Daily_Close_Change\"]\n",
    "average_daily_close_change_by_year"
   ]
  },
  {
   "cell_type": "code",
   "execution_count": 13,
   "id": "e1d958ab",
   "metadata": {},
   "outputs": [
    {
     "data": {
      "text/plain": [
       "87.79185857337953"
      ]
     },
     "execution_count": 13,
     "metadata": {},
     "output_type": "execute_result"
    }
   ],
   "source": [
    "# Calculate the Avg_Adj_Close\n",
    "average_adj_close = final_ticker_data_df[\"Avg_Adj_Close\"].mean()\n",
    "average_adj_close"
   ]
  },
  {
   "cell_type": "code",
   "execution_count": 14,
   "id": "9288deb2",
   "metadata": {},
   "outputs": [
    {
     "data": {
      "text/plain": [
       "GICS_Sector\n",
       "Communication Services    132.781975\n",
       "Consumer Discretionary    158.080633\n",
       "Consumer Staples           70.808887\n",
       "Energy                     52.268899\n",
       "Financials                 70.148725\n",
       "Health Care               130.546884\n",
       "Industrials                66.912522\n",
       "Information Technology     95.514904\n",
       "Materials                  72.474556\n",
       "Real Estate                74.646719\n",
       "Utilities                  41.525741\n",
       "Name: Avg_Adj_Close, dtype: float64"
      ]
     },
     "execution_count": 14,
     "metadata": {},
     "output_type": "execute_result"
    }
   ],
   "source": [
    "# Calculate the Avg_Adj_Close group by GICS_Sector\n",
    "average_adj_close_by_sector =  final_ticker_data_df.groupby([\"GICS_Sector\"]).mean()[\"Avg_Adj_Close\"]\n",
    "average_adj_close_by_sector"
   ]
  },
  {
   "cell_type": "code",
   "execution_count": 15,
   "id": "30da1463",
   "metadata": {},
   "outputs": [
    {
     "data": {
      "text/plain": [
       "Year\n",
       "2013     48.624834\n",
       "2014     60.190941\n",
       "2015     69.163958\n",
       "2016     74.002901\n",
       "2017     89.256365\n",
       "2018    106.787468\n",
       "2019    117.244303\n",
       "2020    137.064098\n",
       "Name: Avg_Adj_Close, dtype: float64"
      ]
     },
     "execution_count": 15,
     "metadata": {},
     "output_type": "execute_result"
    }
   ],
   "source": [
    "# Calculate the Avg_Adj_Close group by Year\n",
    "average_adj_close_by_year = final_ticker_data_df.groupby([\"Year\"]).mean()[\"Avg_Adj_Close\"]\n",
    "average_adj_close_by_year"
   ]
  },
  {
   "cell_type": "code",
   "execution_count": 16,
   "id": "402f565b",
   "metadata": {},
   "outputs": [
    {
     "data": {
      "text/html": [
       "<div>\n",
       "<style scoped>\n",
       "    .dataframe tbody tr th:only-of-type {\n",
       "        vertical-align: middle;\n",
       "    }\n",
       "\n",
       "    .dataframe tbody tr th {\n",
       "        vertical-align: top;\n",
       "    }\n",
       "\n",
       "    .dataframe thead th {\n",
       "        text-align: right;\n",
       "    }\n",
       "</style>\n",
       "<table border=\"1\" class=\"dataframe\">\n",
       "  <thead>\n",
       "    <tr style=\"text-align: right;\">\n",
       "      <th></th>\n",
       "      <th>Average Daily Close Change by Sector</th>\n",
       "      <th>Average Adj Close by Year</th>\n",
       "    </tr>\n",
       "    <tr>\n",
       "      <th>GICS_Sector</th>\n",
       "      <th></th>\n",
       "      <th></th>\n",
       "    </tr>\n",
       "  </thead>\n",
       "  <tbody>\n",
       "    <tr>\n",
       "      <th>Communication Services</th>\n",
       "      <td>0.000982</td>\n",
       "      <td>132.781975</td>\n",
       "    </tr>\n",
       "    <tr>\n",
       "      <th>Consumer Discretionary</th>\n",
       "      <td>0.000982</td>\n",
       "      <td>158.080633</td>\n",
       "    </tr>\n",
       "    <tr>\n",
       "      <th>Consumer Staples</th>\n",
       "      <td>0.000556</td>\n",
       "      <td>70.808887</td>\n",
       "    </tr>\n",
       "    <tr>\n",
       "      <th>Energy</th>\n",
       "      <td>0.000188</td>\n",
       "      <td>52.268899</td>\n",
       "    </tr>\n",
       "    <tr>\n",
       "      <th>Financials</th>\n",
       "      <td>0.000604</td>\n",
       "      <td>70.148725</td>\n",
       "    </tr>\n",
       "    <tr>\n",
       "      <th>Health Care</th>\n",
       "      <td>0.000956</td>\n",
       "      <td>130.546884</td>\n",
       "    </tr>\n",
       "    <tr>\n",
       "      <th>Industrials</th>\n",
       "      <td>0.000750</td>\n",
       "      <td>66.912522</td>\n",
       "    </tr>\n",
       "    <tr>\n",
       "      <th>Information Technology</th>\n",
       "      <td>0.001166</td>\n",
       "      <td>95.514904</td>\n",
       "    </tr>\n",
       "    <tr>\n",
       "      <th>Materials</th>\n",
       "      <td>0.000619</td>\n",
       "      <td>72.474556</td>\n",
       "    </tr>\n",
       "    <tr>\n",
       "      <th>Real Estate</th>\n",
       "      <td>0.000436</td>\n",
       "      <td>74.646719</td>\n",
       "    </tr>\n",
       "    <tr>\n",
       "      <th>Utilities</th>\n",
       "      <td>0.000610</td>\n",
       "      <td>41.525741</td>\n",
       "    </tr>\n",
       "  </tbody>\n",
       "</table>\n",
       "</div>"
      ],
      "text/plain": [
       "                        Average Daily Close Change by Sector  \\\n",
       "GICS_Sector                                                    \n",
       "Communication Services                              0.000982   \n",
       "Consumer Discretionary                              0.000982   \n",
       "Consumer Staples                                    0.000556   \n",
       "Energy                                              0.000188   \n",
       "Financials                                          0.000604   \n",
       "Health Care                                         0.000956   \n",
       "Industrials                                         0.000750   \n",
       "Information Technology                              0.001166   \n",
       "Materials                                           0.000619   \n",
       "Real Estate                                         0.000436   \n",
       "Utilities                                           0.000610   \n",
       "\n",
       "                        Average Adj Close by Year  \n",
       "GICS_Sector                                        \n",
       "Communication Services                 132.781975  \n",
       "Consumer Discretionary                 158.080633  \n",
       "Consumer Staples                        70.808887  \n",
       "Energy                                  52.268899  \n",
       "Financials                              70.148725  \n",
       "Health Care                            130.546884  \n",
       "Industrials                             66.912522  \n",
       "Information Technology                  95.514904  \n",
       "Materials                               72.474556  \n",
       "Real Estate                             74.646719  \n",
       "Utilities                               41.525741  "
      ]
     },
     "execution_count": 16,
     "metadata": {},
     "output_type": "execute_result"
    }
   ],
   "source": [
    "# Combine into DataFrame by Sector\n",
    "summary_df_by_sector = pd.DataFrame({\n",
    "    \"Average Daily Close Change by Sector\": average_daily_close_change_by_sector,\n",
    "    \"Average Adj Close by Year\": average_adj_close_by_sector})\n",
    "\n",
    "summary_df_by_sector"
   ]
  },
  {
   "cell_type": "code",
   "execution_count": 17,
   "id": "1c0ca367",
   "metadata": {},
   "outputs": [
    {
     "data": {
      "text/html": [
       "<div>\n",
       "<style scoped>\n",
       "    .dataframe tbody tr th:only-of-type {\n",
       "        vertical-align: middle;\n",
       "    }\n",
       "\n",
       "    .dataframe tbody tr th {\n",
       "        vertical-align: top;\n",
       "    }\n",
       "\n",
       "    .dataframe thead th {\n",
       "        text-align: right;\n",
       "    }\n",
       "</style>\n",
       "<table border=\"1\" class=\"dataframe\">\n",
       "  <thead>\n",
       "    <tr style=\"text-align: right;\">\n",
       "      <th></th>\n",
       "      <th>Average Daily Close Change by Year</th>\n",
       "      <th>Average Adj Close by Year</th>\n",
       "    </tr>\n",
       "    <tr>\n",
       "      <th>Year</th>\n",
       "      <th></th>\n",
       "      <th></th>\n",
       "    </tr>\n",
       "  </thead>\n",
       "  <tbody>\n",
       "    <tr>\n",
       "      <th>2013</th>\n",
       "      <td>0.001361</td>\n",
       "      <td>48.624834</td>\n",
       "    </tr>\n",
       "    <tr>\n",
       "      <th>2014</th>\n",
       "      <td>0.000775</td>\n",
       "      <td>60.190941</td>\n",
       "    </tr>\n",
       "    <tr>\n",
       "      <th>2015</th>\n",
       "      <td>0.000167</td>\n",
       "      <td>69.163958</td>\n",
       "    </tr>\n",
       "    <tr>\n",
       "      <th>2016</th>\n",
       "      <td>0.000730</td>\n",
       "      <td>74.002901</td>\n",
       "    </tr>\n",
       "    <tr>\n",
       "      <th>2017</th>\n",
       "      <td>0.000763</td>\n",
       "      <td>89.256365</td>\n",
       "    </tr>\n",
       "    <tr>\n",
       "      <th>2018</th>\n",
       "      <td>-0.000070</td>\n",
       "      <td>106.787468</td>\n",
       "    </tr>\n",
       "    <tr>\n",
       "      <th>2019</th>\n",
       "      <td>0.001086</td>\n",
       "      <td>117.244303</td>\n",
       "    </tr>\n",
       "    <tr>\n",
       "      <th>2020</th>\n",
       "      <td>0.000897</td>\n",
       "      <td>137.064098</td>\n",
       "    </tr>\n",
       "  </tbody>\n",
       "</table>\n",
       "</div>"
      ],
      "text/plain": [
       "      Average Daily Close Change by Year   Average Adj Close by Year\n",
       "Year                                                                \n",
       "2013                             0.001361                  48.624834\n",
       "2014                             0.000775                  60.190941\n",
       "2015                             0.000167                  69.163958\n",
       "2016                             0.000730                  74.002901\n",
       "2017                             0.000763                  89.256365\n",
       "2018                            -0.000070                 106.787468\n",
       "2019                             0.001086                 117.244303\n",
       "2020                             0.000897                 137.064098"
      ]
     },
     "execution_count": 17,
     "metadata": {},
     "output_type": "execute_result"
    }
   ],
   "source": [
    "# Combine into DataFrame by Year\n",
    "summary_df_by_year = pd.DataFrame ({\n",
    "    \"Average Daily Close Change by Year \": average_daily_close_change_by_year,\n",
    "    \"Average Adj Close by Year\":average_adj_close_by_year})\n",
    "\n",
    "summary_df_by_year"
   ]
  },
  {
   "cell_type": "code",
   "execution_count": null,
   "id": "2268a3b1",
   "metadata": {},
   "outputs": [],
   "source": []
  }
 ],
 "metadata": {
  "kernelspec": {
   "display_name": "Python 3 (ipykernel)",
   "language": "python",
   "name": "python3"
  },
  "language_info": {
   "codemirror_mode": {
    "name": "ipython",
    "version": 3
   },
   "file_extension": ".py",
   "mimetype": "text/x-python",
   "name": "python",
   "nbconvert_exporter": "python",
   "pygments_lexer": "ipython3",
   "version": "3.7.11"
  }
 },
 "nbformat": 4,
 "nbformat_minor": 5
}
