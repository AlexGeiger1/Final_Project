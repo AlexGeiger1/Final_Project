{
  "nbformat": 4,
  "nbformat_minor": 0,
  "metadata": {
    "colab": {
      "name": "google_stock_prediciton_ML model.ipynb",
      "provenance": [],
      "collapsed_sections": []
    },
    "kernelspec": {
      "name": "python3",
      "display_name": "Python 3"
    },
    "language_info": {
      "name": "python"
    }
  },
  "cells": [
    {
      "cell_type": "code",
      "execution_count": 1,
      "metadata": {
        "id": "bows5dNkEBlK"
      },
      "outputs": [],
      "source": [
        "# Import our dependencies\n",
        "\n",
        "import pandas as pd\n",
        "import numpy as np\n",
        "import matplotlib.pyplot as plt\n",
        "import seaborn as sns\n",
        "import warnings\n",
        "import os\n",
        "\n",
        "%matplotlib inline\n",
        "warnings.filterwarnings('ignore')\n",
        "\n",
        "plt.rcParams['font.family'] = 'NanumGothic'"
      ]
    },
    {
      "cell_type": "code",
      "source": [
        "!pip install finance-datareader"
      ],
      "metadata": {
        "colab": {
          "base_uri": "https://localhost:8080/"
        },
        "id": "-ZRj8F9kEFmO",
        "outputId": "5084f5e4-1461-4be2-c337-03750a154429"
      },
      "execution_count": 2,
      "outputs": [
        {
          "output_type": "stream",
          "name": "stdout",
          "text": [
            "Looking in indexes: https://pypi.org/simple, https://us-python.pkg.dev/colab-wheels/public/simple/\n",
            "Collecting finance-datareader\n",
            "  Downloading finance_datareader-0.9.33-py3-none-any.whl (48 kB)\n",
            "\u001b[K     |████████████████████████████████| 48 kB 3.2 MB/s \n",
            "\u001b[?25hRequirement already satisfied: tqdm in /usr/local/lib/python3.7/dist-packages (from finance-datareader) (4.64.0)\n",
            "Requirement already satisfied: pandas>=0.19.2 in /usr/local/lib/python3.7/dist-packages (from finance-datareader) (1.3.5)\n",
            "Requirement already satisfied: lxml in /usr/local/lib/python3.7/dist-packages (from finance-datareader) (4.2.6)\n",
            "Collecting requests-file\n",
            "  Downloading requests_file-1.5.1-py2.py3-none-any.whl (3.7 kB)\n",
            "Requirement already satisfied: requests>=2.3.0 in /usr/local/lib/python3.7/dist-packages (from finance-datareader) (2.23.0)\n",
            "Requirement already satisfied: numpy>=1.17.3 in /usr/local/lib/python3.7/dist-packages (from pandas>=0.19.2->finance-datareader) (1.21.6)\n",
            "Requirement already satisfied: python-dateutil>=2.7.3 in /usr/local/lib/python3.7/dist-packages (from pandas>=0.19.2->finance-datareader) (2.8.2)\n",
            "Requirement already satisfied: pytz>=2017.3 in /usr/local/lib/python3.7/dist-packages (from pandas>=0.19.2->finance-datareader) (2022.1)\n",
            "Requirement already satisfied: six>=1.5 in /usr/local/lib/python3.7/dist-packages (from python-dateutil>=2.7.3->pandas>=0.19.2->finance-datareader) (1.15.0)\n",
            "Requirement already satisfied: idna<3,>=2.5 in /usr/local/lib/python3.7/dist-packages (from requests>=2.3.0->finance-datareader) (2.10)\n",
            "Requirement already satisfied: chardet<4,>=3.0.2 in /usr/local/lib/python3.7/dist-packages (from requests>=2.3.0->finance-datareader) (3.0.4)\n",
            "Requirement already satisfied: urllib3!=1.25.0,!=1.25.1,<1.26,>=1.21.1 in /usr/local/lib/python3.7/dist-packages (from requests>=2.3.0->finance-datareader) (1.24.3)\n",
            "Requirement already satisfied: certifi>=2017.4.17 in /usr/local/lib/python3.7/dist-packages (from requests>=2.3.0->finance-datareader) (2022.5.18.1)\n",
            "Installing collected packages: requests-file, finance-datareader\n",
            "Successfully installed finance-datareader-0.9.33 requests-file-1.5.1\n"
          ]
        }
      ]
    },
    {
      "cell_type": "code",
      "source": [
        "import FinanceDataReader as fdr"
      ],
      "metadata": {
        "id": "-hFmyw7hEFux"
      },
      "execution_count": 3,
      "outputs": []
    },
    {
      "cell_type": "code",
      "source": [
        "# #Reading the Database GOOG(GOOG)\n",
        "google = fdr.DataReader('GOOG')"
      ],
      "metadata": {
        "id": "01xgz3bZEFxU"
      },
      "execution_count": 4,
      "outputs": []
    },
    {
      "cell_type": "code",
      "source": [
        "google.tail()"
      ],
      "metadata": {
        "colab": {
          "base_uri": "https://localhost:8080/",
          "height": 235
        },
        "id": "XeU3wSCKEFzz",
        "outputId": "36f94549-b1f8-4463-c991-6d26795c2f30"
      },
      "execution_count": 5,
      "outputs": [
        {
          "output_type": "execute_result",
          "data": {
            "text/plain": [
              "              Close     Open     High      Low     Volume  Change\n",
              "Date                                                             \n",
              "2022-05-23  2233.33  2202.08  2240.11  2183.08  1530000.0  0.0215\n",
              "2022-05-24  2118.52  2127.55  2127.90  2044.16  3010000.0 -0.0514\n",
              "2022-05-25  2116.79  2102.84  2130.89  2084.23  1870000.0 -0.0008\n",
              "2022-05-26  2165.92  2121.01  2179.10  2109.76  1510000.0  0.0232\n",
              "2022-05-27  2255.98  2195.77  2255.98  2191.23  1500000.0  0.0416"
            ],
            "text/html": [
              "\n",
              "  <div id=\"df-e6d1b8b9-c041-4a7e-a8ec-289582d34496\">\n",
              "    <div class=\"colab-df-container\">\n",
              "      <div>\n",
              "<style scoped>\n",
              "    .dataframe tbody tr th:only-of-type {\n",
              "        vertical-align: middle;\n",
              "    }\n",
              "\n",
              "    .dataframe tbody tr th {\n",
              "        vertical-align: top;\n",
              "    }\n",
              "\n",
              "    .dataframe thead th {\n",
              "        text-align: right;\n",
              "    }\n",
              "</style>\n",
              "<table border=\"1\" class=\"dataframe\">\n",
              "  <thead>\n",
              "    <tr style=\"text-align: right;\">\n",
              "      <th></th>\n",
              "      <th>Close</th>\n",
              "      <th>Open</th>\n",
              "      <th>High</th>\n",
              "      <th>Low</th>\n",
              "      <th>Volume</th>\n",
              "      <th>Change</th>\n",
              "    </tr>\n",
              "    <tr>\n",
              "      <th>Date</th>\n",
              "      <th></th>\n",
              "      <th></th>\n",
              "      <th></th>\n",
              "      <th></th>\n",
              "      <th></th>\n",
              "      <th></th>\n",
              "    </tr>\n",
              "  </thead>\n",
              "  <tbody>\n",
              "    <tr>\n",
              "      <th>2022-05-23</th>\n",
              "      <td>2233.33</td>\n",
              "      <td>2202.08</td>\n",
              "      <td>2240.11</td>\n",
              "      <td>2183.08</td>\n",
              "      <td>1530000.0</td>\n",
              "      <td>0.0215</td>\n",
              "    </tr>\n",
              "    <tr>\n",
              "      <th>2022-05-24</th>\n",
              "      <td>2118.52</td>\n",
              "      <td>2127.55</td>\n",
              "      <td>2127.90</td>\n",
              "      <td>2044.16</td>\n",
              "      <td>3010000.0</td>\n",
              "      <td>-0.0514</td>\n",
              "    </tr>\n",
              "    <tr>\n",
              "      <th>2022-05-25</th>\n",
              "      <td>2116.79</td>\n",
              "      <td>2102.84</td>\n",
              "      <td>2130.89</td>\n",
              "      <td>2084.23</td>\n",
              "      <td>1870000.0</td>\n",
              "      <td>-0.0008</td>\n",
              "    </tr>\n",
              "    <tr>\n",
              "      <th>2022-05-26</th>\n",
              "      <td>2165.92</td>\n",
              "      <td>2121.01</td>\n",
              "      <td>2179.10</td>\n",
              "      <td>2109.76</td>\n",
              "      <td>1510000.0</td>\n",
              "      <td>0.0232</td>\n",
              "    </tr>\n",
              "    <tr>\n",
              "      <th>2022-05-27</th>\n",
              "      <td>2255.98</td>\n",
              "      <td>2195.77</td>\n",
              "      <td>2255.98</td>\n",
              "      <td>2191.23</td>\n",
              "      <td>1500000.0</td>\n",
              "      <td>0.0416</td>\n",
              "    </tr>\n",
              "  </tbody>\n",
              "</table>\n",
              "</div>\n",
              "      <button class=\"colab-df-convert\" onclick=\"convertToInteractive('df-e6d1b8b9-c041-4a7e-a8ec-289582d34496')\"\n",
              "              title=\"Convert this dataframe to an interactive table.\"\n",
              "              style=\"display:none;\">\n",
              "        \n",
              "  <svg xmlns=\"http://www.w3.org/2000/svg\" height=\"24px\"viewBox=\"0 0 24 24\"\n",
              "       width=\"24px\">\n",
              "    <path d=\"M0 0h24v24H0V0z\" fill=\"none\"/>\n",
              "    <path d=\"M18.56 5.44l.94 2.06.94-2.06 2.06-.94-2.06-.94-.94-2.06-.94 2.06-2.06.94zm-11 1L8.5 8.5l.94-2.06 2.06-.94-2.06-.94L8.5 2.5l-.94 2.06-2.06.94zm10 10l.94 2.06.94-2.06 2.06-.94-2.06-.94-.94-2.06-.94 2.06-2.06.94z\"/><path d=\"M17.41 7.96l-1.37-1.37c-.4-.4-.92-.59-1.43-.59-.52 0-1.04.2-1.43.59L10.3 9.45l-7.72 7.72c-.78.78-.78 2.05 0 2.83L4 21.41c.39.39.9.59 1.41.59.51 0 1.02-.2 1.41-.59l7.78-7.78 2.81-2.81c.8-.78.8-2.07 0-2.86zM5.41 20L4 18.59l7.72-7.72 1.47 1.35L5.41 20z\"/>\n",
              "  </svg>\n",
              "      </button>\n",
              "      \n",
              "  <style>\n",
              "    .colab-df-container {\n",
              "      display:flex;\n",
              "      flex-wrap:wrap;\n",
              "      gap: 12px;\n",
              "    }\n",
              "\n",
              "    .colab-df-convert {\n",
              "      background-color: #E8F0FE;\n",
              "      border: none;\n",
              "      border-radius: 50%;\n",
              "      cursor: pointer;\n",
              "      display: none;\n",
              "      fill: #1967D2;\n",
              "      height: 32px;\n",
              "      padding: 0 0 0 0;\n",
              "      width: 32px;\n",
              "    }\n",
              "\n",
              "    .colab-df-convert:hover {\n",
              "      background-color: #E2EBFA;\n",
              "      box-shadow: 0px 1px 2px rgba(60, 64, 67, 0.3), 0px 1px 3px 1px rgba(60, 64, 67, 0.15);\n",
              "      fill: #174EA6;\n",
              "    }\n",
              "\n",
              "    [theme=dark] .colab-df-convert {\n",
              "      background-color: #3B4455;\n",
              "      fill: #D2E3FC;\n",
              "    }\n",
              "\n",
              "    [theme=dark] .colab-df-convert:hover {\n",
              "      background-color: #434B5C;\n",
              "      box-shadow: 0px 1px 3px 1px rgba(0, 0, 0, 0.15);\n",
              "      filter: drop-shadow(0px 1px 2px rgba(0, 0, 0, 0.3));\n",
              "      fill: #FFFFFF;\n",
              "    }\n",
              "  </style>\n",
              "\n",
              "      <script>\n",
              "        const buttonEl =\n",
              "          document.querySelector('#df-e6d1b8b9-c041-4a7e-a8ec-289582d34496 button.colab-df-convert');\n",
              "        buttonEl.style.display =\n",
              "          google.colab.kernel.accessAllowed ? 'block' : 'none';\n",
              "\n",
              "        async function convertToInteractive(key) {\n",
              "          const element = document.querySelector('#df-e6d1b8b9-c041-4a7e-a8ec-289582d34496');\n",
              "          const dataTable =\n",
              "            await google.colab.kernel.invokeFunction('convertToInteractive',\n",
              "                                                     [key], {});\n",
              "          if (!dataTable) return;\n",
              "\n",
              "          const docLinkHtml = 'Like what you see? Visit the ' +\n",
              "            '<a target=\"_blank\" href=https://colab.research.google.com/notebooks/data_table.ipynb>data table notebook</a>'\n",
              "            + ' to learn more about interactive tables.';\n",
              "          element.innerHTML = '';\n",
              "          dataTable['output_type'] = 'display_data';\n",
              "          await google.colab.output.renderOutput(dataTable, element);\n",
              "          const docLink = document.createElement('div');\n",
              "          docLink.innerHTML = docLinkHtml;\n",
              "          element.appendChild(docLink);\n",
              "        }\n",
              "      </script>\n",
              "    </div>\n",
              "  </div>\n",
              "  "
            ]
          },
          "metadata": {},
          "execution_count": 5
        }
      ]
    },
    {
      "cell_type": "code",
      "source": [
        "# GOOG(GOOG)\n",
        "google = fdr.DataReader('GOOG', '2014')"
      ],
      "metadata": {
        "id": "6lv0MCuoEF2F"
      },
      "execution_count": 6,
      "outputs": []
    },
    {
      "cell_type": "code",
      "source": [
        "google.head()"
      ],
      "metadata": {
        "colab": {
          "base_uri": "https://localhost:8080/",
          "height": 235
        },
        "id": "RXJQeRXkEF4b",
        "outputId": "865c10ea-6261-48e7-bd14-aff9b49c2959"
      },
      "execution_count": 7,
      "outputs": [
        {
          "output_type": "execute_result",
          "data": {
            "text/plain": [
              "             Close    Open    High     Low     Volume  Change\n",
              "Date                                                         \n",
              "2014-03-28  558.46  559.66  564.88  557.14    41120.0  0.0027\n",
              "2014-03-31  555.45  565.34  565.45  555.41    10800.0 -0.0054\n",
              "2014-04-01  565.61  557.18  566.89  557.18     7950.0  0.0183\n",
              "2014-04-02  565.45  598.35  603.17  560.65   147100.0 -0.0003\n",
              "2014-04-03  568.18  568.29  585.67  562.59  5100000.0  0.0048"
            ],
            "text/html": [
              "\n",
              "  <div id=\"df-da1ecaaa-8c8e-45f7-994d-106829c8b284\">\n",
              "    <div class=\"colab-df-container\">\n",
              "      <div>\n",
              "<style scoped>\n",
              "    .dataframe tbody tr th:only-of-type {\n",
              "        vertical-align: middle;\n",
              "    }\n",
              "\n",
              "    .dataframe tbody tr th {\n",
              "        vertical-align: top;\n",
              "    }\n",
              "\n",
              "    .dataframe thead th {\n",
              "        text-align: right;\n",
              "    }\n",
              "</style>\n",
              "<table border=\"1\" class=\"dataframe\">\n",
              "  <thead>\n",
              "    <tr style=\"text-align: right;\">\n",
              "      <th></th>\n",
              "      <th>Close</th>\n",
              "      <th>Open</th>\n",
              "      <th>High</th>\n",
              "      <th>Low</th>\n",
              "      <th>Volume</th>\n",
              "      <th>Change</th>\n",
              "    </tr>\n",
              "    <tr>\n",
              "      <th>Date</th>\n",
              "      <th></th>\n",
              "      <th></th>\n",
              "      <th></th>\n",
              "      <th></th>\n",
              "      <th></th>\n",
              "      <th></th>\n",
              "    </tr>\n",
              "  </thead>\n",
              "  <tbody>\n",
              "    <tr>\n",
              "      <th>2014-03-28</th>\n",
              "      <td>558.46</td>\n",
              "      <td>559.66</td>\n",
              "      <td>564.88</td>\n",
              "      <td>557.14</td>\n",
              "      <td>41120.0</td>\n",
              "      <td>0.0027</td>\n",
              "    </tr>\n",
              "    <tr>\n",
              "      <th>2014-03-31</th>\n",
              "      <td>555.45</td>\n",
              "      <td>565.34</td>\n",
              "      <td>565.45</td>\n",
              "      <td>555.41</td>\n",
              "      <td>10800.0</td>\n",
              "      <td>-0.0054</td>\n",
              "    </tr>\n",
              "    <tr>\n",
              "      <th>2014-04-01</th>\n",
              "      <td>565.61</td>\n",
              "      <td>557.18</td>\n",
              "      <td>566.89</td>\n",
              "      <td>557.18</td>\n",
              "      <td>7950.0</td>\n",
              "      <td>0.0183</td>\n",
              "    </tr>\n",
              "    <tr>\n",
              "      <th>2014-04-02</th>\n",
              "      <td>565.45</td>\n",
              "      <td>598.35</td>\n",
              "      <td>603.17</td>\n",
              "      <td>560.65</td>\n",
              "      <td>147100.0</td>\n",
              "      <td>-0.0003</td>\n",
              "    </tr>\n",
              "    <tr>\n",
              "      <th>2014-04-03</th>\n",
              "      <td>568.18</td>\n",
              "      <td>568.29</td>\n",
              "      <td>585.67</td>\n",
              "      <td>562.59</td>\n",
              "      <td>5100000.0</td>\n",
              "      <td>0.0048</td>\n",
              "    </tr>\n",
              "  </tbody>\n",
              "</table>\n",
              "</div>\n",
              "      <button class=\"colab-df-convert\" onclick=\"convertToInteractive('df-da1ecaaa-8c8e-45f7-994d-106829c8b284')\"\n",
              "              title=\"Convert this dataframe to an interactive table.\"\n",
              "              style=\"display:none;\">\n",
              "        \n",
              "  <svg xmlns=\"http://www.w3.org/2000/svg\" height=\"24px\"viewBox=\"0 0 24 24\"\n",
              "       width=\"24px\">\n",
              "    <path d=\"M0 0h24v24H0V0z\" fill=\"none\"/>\n",
              "    <path d=\"M18.56 5.44l.94 2.06.94-2.06 2.06-.94-2.06-.94-.94-2.06-.94 2.06-2.06.94zm-11 1L8.5 8.5l.94-2.06 2.06-.94-2.06-.94L8.5 2.5l-.94 2.06-2.06.94zm10 10l.94 2.06.94-2.06 2.06-.94-2.06-.94-.94-2.06-.94 2.06-2.06.94z\"/><path d=\"M17.41 7.96l-1.37-1.37c-.4-.4-.92-.59-1.43-.59-.52 0-1.04.2-1.43.59L10.3 9.45l-7.72 7.72c-.78.78-.78 2.05 0 2.83L4 21.41c.39.39.9.59 1.41.59.51 0 1.02-.2 1.41-.59l7.78-7.78 2.81-2.81c.8-.78.8-2.07 0-2.86zM5.41 20L4 18.59l7.72-7.72 1.47 1.35L5.41 20z\"/>\n",
              "  </svg>\n",
              "      </button>\n",
              "      \n",
              "  <style>\n",
              "    .colab-df-container {\n",
              "      display:flex;\n",
              "      flex-wrap:wrap;\n",
              "      gap: 12px;\n",
              "    }\n",
              "\n",
              "    .colab-df-convert {\n",
              "      background-color: #E8F0FE;\n",
              "      border: none;\n",
              "      border-radius: 50%;\n",
              "      cursor: pointer;\n",
              "      display: none;\n",
              "      fill: #1967D2;\n",
              "      height: 32px;\n",
              "      padding: 0 0 0 0;\n",
              "      width: 32px;\n",
              "    }\n",
              "\n",
              "    .colab-df-convert:hover {\n",
              "      background-color: #E2EBFA;\n",
              "      box-shadow: 0px 1px 2px rgba(60, 64, 67, 0.3), 0px 1px 3px 1px rgba(60, 64, 67, 0.15);\n",
              "      fill: #174EA6;\n",
              "    }\n",
              "\n",
              "    [theme=dark] .colab-df-convert {\n",
              "      background-color: #3B4455;\n",
              "      fill: #D2E3FC;\n",
              "    }\n",
              "\n",
              "    [theme=dark] .colab-df-convert:hover {\n",
              "      background-color: #434B5C;\n",
              "      box-shadow: 0px 1px 3px 1px rgba(0, 0, 0, 0.15);\n",
              "      filter: drop-shadow(0px 1px 2px rgba(0, 0, 0, 0.3));\n",
              "      fill: #FFFFFF;\n",
              "    }\n",
              "  </style>\n",
              "\n",
              "      <script>\n",
              "        const buttonEl =\n",
              "          document.querySelector('#df-da1ecaaa-8c8e-45f7-994d-106829c8b284 button.colab-df-convert');\n",
              "        buttonEl.style.display =\n",
              "          google.colab.kernel.accessAllowed ? 'block' : 'none';\n",
              "\n",
              "        async function convertToInteractive(key) {\n",
              "          const element = document.querySelector('#df-da1ecaaa-8c8e-45f7-994d-106829c8b284');\n",
              "          const dataTable =\n",
              "            await google.colab.kernel.invokeFunction('convertToInteractive',\n",
              "                                                     [key], {});\n",
              "          if (!dataTable) return;\n",
              "\n",
              "          const docLinkHtml = 'Like what you see? Visit the ' +\n",
              "            '<a target=\"_blank\" href=https://colab.research.google.com/notebooks/data_table.ipynb>data table notebook</a>'\n",
              "            + ' to learn more about interactive tables.';\n",
              "          element.innerHTML = '';\n",
              "          dataTable['output_type'] = 'display_data';\n",
              "          await google.colab.output.renderOutput(dataTable, element);\n",
              "          const docLink = document.createElement('div');\n",
              "          docLink.innerHTML = docLinkHtml;\n",
              "          element.appendChild(docLink);\n",
              "        }\n",
              "      </script>\n",
              "    </div>\n",
              "  </div>\n",
              "  "
            ]
          },
          "metadata": {},
          "execution_count": 7
        }
      ]
    },
    {
      "cell_type": "code",
      "source": [
        "# Find the 'GOOG' data from the data between 2000-01-01 ~ 2020-12-30 (20years data)\n",
        "google = fdr.DataReader('G', '2000-01-01', '2020-12-30')"
      ],
      "metadata": {
        "id": "Q8W5B0zXEF7f"
      },
      "execution_count": 8,
      "outputs": []
    },
    {
      "cell_type": "code",
      "source": [
        "google.tail()"
      ],
      "metadata": {
        "colab": {
          "base_uri": "https://localhost:8080/",
          "height": 235
        },
        "id": "A80D98WPEXMO",
        "outputId": "35932955-8ad4-41bd-9dc7-c731ba458d7f"
      },
      "execution_count": 9,
      "outputs": [
        {
          "output_type": "execute_result",
          "data": {
            "text/plain": [
              "            Close   Open   High    Low    Volume  Change\n",
              "Date                                                    \n",
              "2020-12-23  41.76  42.05  42.16  41.53  968600.0 -0.0010\n",
              "2020-12-24  41.75  41.88  41.89  41.48  323260.0 -0.0002\n",
              "2020-12-28  41.55  41.99  42.25  41.54  470690.0 -0.0048\n",
              "2020-12-29  41.10  41.85  41.85  41.08  474560.0 -0.0108\n",
              "2020-12-30  41.23  41.21  41.55  41.12  419030.0  0.0032"
            ],
            "text/html": [
              "\n",
              "  <div id=\"df-cb9500ef-f87e-4876-b17b-e68949aa54a3\">\n",
              "    <div class=\"colab-df-container\">\n",
              "      <div>\n",
              "<style scoped>\n",
              "    .dataframe tbody tr th:only-of-type {\n",
              "        vertical-align: middle;\n",
              "    }\n",
              "\n",
              "    .dataframe tbody tr th {\n",
              "        vertical-align: top;\n",
              "    }\n",
              "\n",
              "    .dataframe thead th {\n",
              "        text-align: right;\n",
              "    }\n",
              "</style>\n",
              "<table border=\"1\" class=\"dataframe\">\n",
              "  <thead>\n",
              "    <tr style=\"text-align: right;\">\n",
              "      <th></th>\n",
              "      <th>Close</th>\n",
              "      <th>Open</th>\n",
              "      <th>High</th>\n",
              "      <th>Low</th>\n",
              "      <th>Volume</th>\n",
              "      <th>Change</th>\n",
              "    </tr>\n",
              "    <tr>\n",
              "      <th>Date</th>\n",
              "      <th></th>\n",
              "      <th></th>\n",
              "      <th></th>\n",
              "      <th></th>\n",
              "      <th></th>\n",
              "      <th></th>\n",
              "    </tr>\n",
              "  </thead>\n",
              "  <tbody>\n",
              "    <tr>\n",
              "      <th>2020-12-23</th>\n",
              "      <td>41.76</td>\n",
              "      <td>42.05</td>\n",
              "      <td>42.16</td>\n",
              "      <td>41.53</td>\n",
              "      <td>968600.0</td>\n",
              "      <td>-0.0010</td>\n",
              "    </tr>\n",
              "    <tr>\n",
              "      <th>2020-12-24</th>\n",
              "      <td>41.75</td>\n",
              "      <td>41.88</td>\n",
              "      <td>41.89</td>\n",
              "      <td>41.48</td>\n",
              "      <td>323260.0</td>\n",
              "      <td>-0.0002</td>\n",
              "    </tr>\n",
              "    <tr>\n",
              "      <th>2020-12-28</th>\n",
              "      <td>41.55</td>\n",
              "      <td>41.99</td>\n",
              "      <td>42.25</td>\n",
              "      <td>41.54</td>\n",
              "      <td>470690.0</td>\n",
              "      <td>-0.0048</td>\n",
              "    </tr>\n",
              "    <tr>\n",
              "      <th>2020-12-29</th>\n",
              "      <td>41.10</td>\n",
              "      <td>41.85</td>\n",
              "      <td>41.85</td>\n",
              "      <td>41.08</td>\n",
              "      <td>474560.0</td>\n",
              "      <td>-0.0108</td>\n",
              "    </tr>\n",
              "    <tr>\n",
              "      <th>2020-12-30</th>\n",
              "      <td>41.23</td>\n",
              "      <td>41.21</td>\n",
              "      <td>41.55</td>\n",
              "      <td>41.12</td>\n",
              "      <td>419030.0</td>\n",
              "      <td>0.0032</td>\n",
              "    </tr>\n",
              "  </tbody>\n",
              "</table>\n",
              "</div>\n",
              "      <button class=\"colab-df-convert\" onclick=\"convertToInteractive('df-cb9500ef-f87e-4876-b17b-e68949aa54a3')\"\n",
              "              title=\"Convert this dataframe to an interactive table.\"\n",
              "              style=\"display:none;\">\n",
              "        \n",
              "  <svg xmlns=\"http://www.w3.org/2000/svg\" height=\"24px\"viewBox=\"0 0 24 24\"\n",
              "       width=\"24px\">\n",
              "    <path d=\"M0 0h24v24H0V0z\" fill=\"none\"/>\n",
              "    <path d=\"M18.56 5.44l.94 2.06.94-2.06 2.06-.94-2.06-.94-.94-2.06-.94 2.06-2.06.94zm-11 1L8.5 8.5l.94-2.06 2.06-.94-2.06-.94L8.5 2.5l-.94 2.06-2.06.94zm10 10l.94 2.06.94-2.06 2.06-.94-2.06-.94-.94-2.06-.94 2.06-2.06.94z\"/><path d=\"M17.41 7.96l-1.37-1.37c-.4-.4-.92-.59-1.43-.59-.52 0-1.04.2-1.43.59L10.3 9.45l-7.72 7.72c-.78.78-.78 2.05 0 2.83L4 21.41c.39.39.9.59 1.41.59.51 0 1.02-.2 1.41-.59l7.78-7.78 2.81-2.81c.8-.78.8-2.07 0-2.86zM5.41 20L4 18.59l7.72-7.72 1.47 1.35L5.41 20z\"/>\n",
              "  </svg>\n",
              "      </button>\n",
              "      \n",
              "  <style>\n",
              "    .colab-df-container {\n",
              "      display:flex;\n",
              "      flex-wrap:wrap;\n",
              "      gap: 12px;\n",
              "    }\n",
              "\n",
              "    .colab-df-convert {\n",
              "      background-color: #E8F0FE;\n",
              "      border: none;\n",
              "      border-radius: 50%;\n",
              "      cursor: pointer;\n",
              "      display: none;\n",
              "      fill: #1967D2;\n",
              "      height: 32px;\n",
              "      padding: 0 0 0 0;\n",
              "      width: 32px;\n",
              "    }\n",
              "\n",
              "    .colab-df-convert:hover {\n",
              "      background-color: #E2EBFA;\n",
              "      box-shadow: 0px 1px 2px rgba(60, 64, 67, 0.3), 0px 1px 3px 1px rgba(60, 64, 67, 0.15);\n",
              "      fill: #174EA6;\n",
              "    }\n",
              "\n",
              "    [theme=dark] .colab-df-convert {\n",
              "      background-color: #3B4455;\n",
              "      fill: #D2E3FC;\n",
              "    }\n",
              "\n",
              "    [theme=dark] .colab-df-convert:hover {\n",
              "      background-color: #434B5C;\n",
              "      box-shadow: 0px 1px 3px 1px rgba(0, 0, 0, 0.15);\n",
              "      filter: drop-shadow(0px 1px 2px rgba(0, 0, 0, 0.3));\n",
              "      fill: #FFFFFF;\n",
              "    }\n",
              "  </style>\n",
              "\n",
              "      <script>\n",
              "        const buttonEl =\n",
              "          document.querySelector('#df-cb9500ef-f87e-4876-b17b-e68949aa54a3 button.colab-df-convert');\n",
              "        buttonEl.style.display =\n",
              "          google.colab.kernel.accessAllowed ? 'block' : 'none';\n",
              "\n",
              "        async function convertToInteractive(key) {\n",
              "          const element = document.querySelector('#df-cb9500ef-f87e-4876-b17b-e68949aa54a3');\n",
              "          const dataTable =\n",
              "            await google.colab.kernel.invokeFunction('convertToInteractive',\n",
              "                                                     [key], {});\n",
              "          if (!dataTable) return;\n",
              "\n",
              "          const docLinkHtml = 'Like what you see? Visit the ' +\n",
              "            '<a target=\"_blank\" href=https://colab.research.google.com/notebooks/data_table.ipynb>data table notebook</a>'\n",
              "            + ' to learn more about interactive tables.';\n",
              "          element.innerHTML = '';\n",
              "          dataTable['output_type'] = 'display_data';\n",
              "          await google.colab.output.renderOutput(dataTable, element);\n",
              "          const docLink = document.createElement('div');\n",
              "          docLink.innerHTML = docLinkHtml;\n",
              "          element.appendChild(docLink);\n",
              "        }\n",
              "      </script>\n",
              "    </div>\n",
              "  </div>\n",
              "  "
            ]
          },
          "metadata": {},
          "execution_count": 9
        }
      ]
    },
    {
      "cell_type": "code",
      "source": [
        "# checj DatetimeIndex\n",
        "google.index"
      ],
      "metadata": {
        "colab": {
          "base_uri": "https://localhost:8080/"
        },
        "id": "X6Xs5rY6EXOe",
        "outputId": "5d4e2f9e-826f-4e87-b37e-038b172aa4ae"
      },
      "execution_count": 10,
      "outputs": [
        {
          "output_type": "execute_result",
          "data": {
            "text/plain": [
              "DatetimeIndex(['2007-08-02', '2007-08-03', '2007-08-06', '2007-08-07',\n",
              "               '2007-08-08', '2007-08-09', '2007-08-10', '2007-08-13',\n",
              "               '2007-08-14', '2007-08-15',\n",
              "               ...\n",
              "               '2020-12-16', '2020-12-17', '2020-12-18', '2020-12-21',\n",
              "               '2020-12-22', '2020-12-23', '2020-12-24', '2020-12-28',\n",
              "               '2020-12-29', '2020-12-30'],\n",
              "              dtype='datetime64[ns]', name='Date', length=3378, freq=None)"
            ]
          },
          "metadata": {},
          "execution_count": 10
        }
      ]
    },
    {
      "cell_type": "code",
      "source": [
        "# Setting the dataframe based on the year, month and day\n",
        "google['Year'] = google.index.year\n",
        "google['Month'] = google.index.month\n",
        "google['Day'] = google.index.day"
      ],
      "metadata": {
        "id": "N-EbAWWgEXRJ"
      },
      "execution_count": 11,
      "outputs": []
    },
    {
      "cell_type": "code",
      "source": [
        "google.head()"
      ],
      "metadata": {
        "colab": {
          "base_uri": "https://localhost:8080/",
          "height": 235
        },
        "id": "MQo6KmMNEXTG",
        "outputId": "0da2f489-e133-4cc0-f40b-fa7a4e8f6be9"
      },
      "execution_count": 12,
      "outputs": [
        {
          "output_type": "execute_result",
          "data": {
            "text/plain": [
              "            Close   Open   High    Low      Volume  Change  Year  Month  Day\n",
              "Date                                                                        \n",
              "2007-08-02  16.75  14.00  17.10  13.63  18500000.0 -0.5779  2007      8    2\n",
              "2007-08-03  15.75  16.30  17.00  15.25   1700000.0 -0.0597  2007      8    3\n",
              "2007-08-06  16.18  15.80  16.19  15.28    852900.0  0.0273  2007      8    6\n",
              "2007-08-07  17.00  16.03  17.00  15.98    694200.0  0.0507  2007      8    7\n",
              "2007-08-08  16.50  17.01  17.44  16.15   1260000.0 -0.0294  2007      8    8"
            ],
            "text/html": [
              "\n",
              "  <div id=\"df-4f6c0876-dc0d-4a6a-be84-1d4015f2a8ee\">\n",
              "    <div class=\"colab-df-container\">\n",
              "      <div>\n",
              "<style scoped>\n",
              "    .dataframe tbody tr th:only-of-type {\n",
              "        vertical-align: middle;\n",
              "    }\n",
              "\n",
              "    .dataframe tbody tr th {\n",
              "        vertical-align: top;\n",
              "    }\n",
              "\n",
              "    .dataframe thead th {\n",
              "        text-align: right;\n",
              "    }\n",
              "</style>\n",
              "<table border=\"1\" class=\"dataframe\">\n",
              "  <thead>\n",
              "    <tr style=\"text-align: right;\">\n",
              "      <th></th>\n",
              "      <th>Close</th>\n",
              "      <th>Open</th>\n",
              "      <th>High</th>\n",
              "      <th>Low</th>\n",
              "      <th>Volume</th>\n",
              "      <th>Change</th>\n",
              "      <th>Year</th>\n",
              "      <th>Month</th>\n",
              "      <th>Day</th>\n",
              "    </tr>\n",
              "    <tr>\n",
              "      <th>Date</th>\n",
              "      <th></th>\n",
              "      <th></th>\n",
              "      <th></th>\n",
              "      <th></th>\n",
              "      <th></th>\n",
              "      <th></th>\n",
              "      <th></th>\n",
              "      <th></th>\n",
              "      <th></th>\n",
              "    </tr>\n",
              "  </thead>\n",
              "  <tbody>\n",
              "    <tr>\n",
              "      <th>2007-08-02</th>\n",
              "      <td>16.75</td>\n",
              "      <td>14.00</td>\n",
              "      <td>17.10</td>\n",
              "      <td>13.63</td>\n",
              "      <td>18500000.0</td>\n",
              "      <td>-0.5779</td>\n",
              "      <td>2007</td>\n",
              "      <td>8</td>\n",
              "      <td>2</td>\n",
              "    </tr>\n",
              "    <tr>\n",
              "      <th>2007-08-03</th>\n",
              "      <td>15.75</td>\n",
              "      <td>16.30</td>\n",
              "      <td>17.00</td>\n",
              "      <td>15.25</td>\n",
              "      <td>1700000.0</td>\n",
              "      <td>-0.0597</td>\n",
              "      <td>2007</td>\n",
              "      <td>8</td>\n",
              "      <td>3</td>\n",
              "    </tr>\n",
              "    <tr>\n",
              "      <th>2007-08-06</th>\n",
              "      <td>16.18</td>\n",
              "      <td>15.80</td>\n",
              "      <td>16.19</td>\n",
              "      <td>15.28</td>\n",
              "      <td>852900.0</td>\n",
              "      <td>0.0273</td>\n",
              "      <td>2007</td>\n",
              "      <td>8</td>\n",
              "      <td>6</td>\n",
              "    </tr>\n",
              "    <tr>\n",
              "      <th>2007-08-07</th>\n",
              "      <td>17.00</td>\n",
              "      <td>16.03</td>\n",
              "      <td>17.00</td>\n",
              "      <td>15.98</td>\n",
              "      <td>694200.0</td>\n",
              "      <td>0.0507</td>\n",
              "      <td>2007</td>\n",
              "      <td>8</td>\n",
              "      <td>7</td>\n",
              "    </tr>\n",
              "    <tr>\n",
              "      <th>2007-08-08</th>\n",
              "      <td>16.50</td>\n",
              "      <td>17.01</td>\n",
              "      <td>17.44</td>\n",
              "      <td>16.15</td>\n",
              "      <td>1260000.0</td>\n",
              "      <td>-0.0294</td>\n",
              "      <td>2007</td>\n",
              "      <td>8</td>\n",
              "      <td>8</td>\n",
              "    </tr>\n",
              "  </tbody>\n",
              "</table>\n",
              "</div>\n",
              "      <button class=\"colab-df-convert\" onclick=\"convertToInteractive('df-4f6c0876-dc0d-4a6a-be84-1d4015f2a8ee')\"\n",
              "              title=\"Convert this dataframe to an interactive table.\"\n",
              "              style=\"display:none;\">\n",
              "        \n",
              "  <svg xmlns=\"http://www.w3.org/2000/svg\" height=\"24px\"viewBox=\"0 0 24 24\"\n",
              "       width=\"24px\">\n",
              "    <path d=\"M0 0h24v24H0V0z\" fill=\"none\"/>\n",
              "    <path d=\"M18.56 5.44l.94 2.06.94-2.06 2.06-.94-2.06-.94-.94-2.06-.94 2.06-2.06.94zm-11 1L8.5 8.5l.94-2.06 2.06-.94-2.06-.94L8.5 2.5l-.94 2.06-2.06.94zm10 10l.94 2.06.94-2.06 2.06-.94-2.06-.94-.94-2.06-.94 2.06-2.06.94z\"/><path d=\"M17.41 7.96l-1.37-1.37c-.4-.4-.92-.59-1.43-.59-.52 0-1.04.2-1.43.59L10.3 9.45l-7.72 7.72c-.78.78-.78 2.05 0 2.83L4 21.41c.39.39.9.59 1.41.59.51 0 1.02-.2 1.41-.59l7.78-7.78 2.81-2.81c.8-.78.8-2.07 0-2.86zM5.41 20L4 18.59l7.72-7.72 1.47 1.35L5.41 20z\"/>\n",
              "  </svg>\n",
              "      </button>\n",
              "      \n",
              "  <style>\n",
              "    .colab-df-container {\n",
              "      display:flex;\n",
              "      flex-wrap:wrap;\n",
              "      gap: 12px;\n",
              "    }\n",
              "\n",
              "    .colab-df-convert {\n",
              "      background-color: #E8F0FE;\n",
              "      border: none;\n",
              "      border-radius: 50%;\n",
              "      cursor: pointer;\n",
              "      display: none;\n",
              "      fill: #1967D2;\n",
              "      height: 32px;\n",
              "      padding: 0 0 0 0;\n",
              "      width: 32px;\n",
              "    }\n",
              "\n",
              "    .colab-df-convert:hover {\n",
              "      background-color: #E2EBFA;\n",
              "      box-shadow: 0px 1px 2px rgba(60, 64, 67, 0.3), 0px 1px 3px 1px rgba(60, 64, 67, 0.15);\n",
              "      fill: #174EA6;\n",
              "    }\n",
              "\n",
              "    [theme=dark] .colab-df-convert {\n",
              "      background-color: #3B4455;\n",
              "      fill: #D2E3FC;\n",
              "    }\n",
              "\n",
              "    [theme=dark] .colab-df-convert:hover {\n",
              "      background-color: #434B5C;\n",
              "      box-shadow: 0px 1px 3px 1px rgba(0, 0, 0, 0.15);\n",
              "      filter: drop-shadow(0px 1px 2px rgba(0, 0, 0, 0.3));\n",
              "      fill: #FFFFFF;\n",
              "    }\n",
              "  </style>\n",
              "\n",
              "      <script>\n",
              "        const buttonEl =\n",
              "          document.querySelector('#df-4f6c0876-dc0d-4a6a-be84-1d4015f2a8ee button.colab-df-convert');\n",
              "        buttonEl.style.display =\n",
              "          google.colab.kernel.accessAllowed ? 'block' : 'none';\n",
              "\n",
              "        async function convertToInteractive(key) {\n",
              "          const element = document.querySelector('#df-4f6c0876-dc0d-4a6a-be84-1d4015f2a8ee');\n",
              "          const dataTable =\n",
              "            await google.colab.kernel.invokeFunction('convertToInteractive',\n",
              "                                                     [key], {});\n",
              "          if (!dataTable) return;\n",
              "\n",
              "          const docLinkHtml = 'Like what you see? Visit the ' +\n",
              "            '<a target=\"_blank\" href=https://colab.research.google.com/notebooks/data_table.ipynb>data table notebook</a>'\n",
              "            + ' to learn more about interactive tables.';\n",
              "          element.innerHTML = '';\n",
              "          dataTable['output_type'] = 'display_data';\n",
              "          await google.colab.output.renderOutput(dataTable, element);\n",
              "          const docLink = document.createElement('div');\n",
              "          docLink.innerHTML = docLinkHtml;\n",
              "          element.appendChild(docLink);\n",
              "        }\n",
              "      </script>\n",
              "    </div>\n",
              "  </div>\n",
              "  "
            ]
          },
          "metadata": {},
          "execution_count": 12
        }
      ]
    },
    {
      "cell_type": "code",
      "source": [
        "# make visual plot chart\n",
        "plt.figure(figsize=(16, 9))\n",
        "sns.lineplot(y=google['Close'], x=google.index)\n",
        "plt.xlabel('time')\n",
        "plt.ylabel('price')"
      ],
      "metadata": {
        "colab": {
          "base_uri": "https://localhost:8080/",
          "height": 568
        },
        "id": "EQYpezt6EdZw",
        "outputId": "ad931143-7c00-4b4e-a51e-0449c701e5d4"
      },
      "execution_count": 13,
      "outputs": [
        {
          "output_type": "execute_result",
          "data": {
            "text/plain": [
              "Text(0, 0.5, 'price')"
            ]
          },
          "metadata": {},
          "execution_count": 13
        },
        {
          "output_type": "stream",
          "name": "stderr",
          "text": [
            "findfont: Font family ['NanumGothic'] not found. Falling back to DejaVu Sans.\n"
          ]
        },
        {
          "output_type": "display_data",
          "data": {
            "text/plain": [
              "<Figure size 1152x648 with 1 Axes>"
            ],
            "image/png": "[encoded data removed]"
          },
          "metadata": {
            "needs_background": "light"
          }
        }
      ]
    },
    {
      "cell_type": "code",
      "source": [
        "# Make visual charts in one chart\n",
        "\n",
        "time_frame = [['2000', '2005'], \n",
        "              ['2005', '2010'], \n",
        "              ['2010', '2015'], \n",
        "              ['2015', '2020']]\n",
        "\n",
        "fig, axes = plt.subplots(2, 2)\n",
        "fig.set_size_inches(15, 10)\n",
        "for i in range(4):\n",
        "    ax = axes[i//2, i%2]\n",
        "    df = google.loc[(google.index > time_frame[i][0]) & (google.index < time_frame[i][1])]\n",
        "    sns.lineplot(y=df['Close'], x=df.index, ax=ax)\n",
        "    ax.set_title(f'{time_frame[i][0]}~{time_frame[i][1]}')\n",
        "    ax.set_xlabel('Time')\n",
        "    ax.set_ylabel('Price')\n",
        "plt.tight_layout()\n",
        "plt.show()"
      ],
      "metadata": {
        "colab": {
          "base_uri": "https://localhost:8080/",
          "height": 672
        },
        "id": "HHt7s0x7EdcN",
        "outputId": "ccc996f2-ef33-4996-a038-d7731a2bd6df"
      },
      "execution_count": 14,
      "outputs": [
        {
          "output_type": "stream",
          "name": "stderr",
          "text": [
            "findfont: Font family ['NanumGothic'] not found. Falling back to DejaVu Sans.\n"
          ]
        },
        {
          "output_type": "display_data",
          "data": {
            "text/plain": [
              "<Figure size 1080x720 with 4 Axes>"
            ],
            "image/png": "[encoded data removed]"
          },
          "metadata": {
            "needs_background": "light"
          }
        }
      ]
    },
    {
      "cell_type": "code",
      "source": [
        "# pre-processing by using scikit-learn package\n",
        "# normalization for training deep learning about the stock data\n",
        "# organize dataset within 5 columns based on datetime in dataframe.\n",
        "# use MinMaxScaler because the stock price has negative values (-1 etc.) usually standard scaler starts from 0 to 1\n",
        "\n",
        "from sklearn.preprocessing import MinMaxScaler\n",
        "\n",
        "scaler = MinMaxScaler()\n",
        "# define scaled columns\n",
        "scaled_cols = ['Open', 'High', 'Low', 'Close', 'Volume']\n",
        "# after scaled columns\n",
        "scaled_value = scaler.fit_transform(google[scaled_cols])\n",
        "scaled_value"
      ],
      "metadata": {
        "id": "4yLHdxniEdet",
        "colab": {
          "base_uri": "https://localhost:8080/"
        },
        "outputId": "8b191983-b66b-4a5a-c96f-3bcefd42ccf9"
      },
      "execution_count": 15,
      "outputs": [
        {
          "output_type": "execute_result",
          "data": {
            "text/plain": [
              "array([[0.19543805, 0.26708399, 0.18999482, 0.26968912, 0.79756736],\n",
              "       [0.25505443, 0.26447574, 0.23198548, 0.24378238, 0.07243549],\n",
              "       [0.24209435, 0.24334898, 0.23276309, 0.25492228, 0.03587245],\n",
              "       ...,\n",
              "       [0.92094349, 0.92305686, 0.91342665, 0.91217617, 0.01937526],\n",
              "       [0.91731467, 0.91262389, 0.90150337, 0.90051813, 0.0195423 ],\n",
              "       [0.90072576, 0.90479917, 0.90254018, 0.90388601, 0.01714548]])"
            ]
          },
          "metadata": {},
          "execution_count": 15
        }
      ]
    },
    {
      "cell_type": "code",
      "source": [
        "df = pd.DataFrame(scaled_value, columns=scaled_cols)"
      ],
      "metadata": {
        "id": "Ue2cUMWXEdhr"
      },
      "execution_count": 16,
      "outputs": []
    },
    {
      "cell_type": "code",
      "source": [
        "#train / test \n",
        "# Split our preprocessed data into our features and target arrays\n",
        "from sklearn.model_selection import train_test_split"
      ],
      "metadata": {
        "id": "qJ_cefmWEdlA"
      },
      "execution_count": 17,
      "outputs": []
    },
    {
      "cell_type": "code",
      "source": [
        "# Split the preprocessed data into a training and testing dataset\n",
        "x_train, x_test, y_train, y_test = train_test_split(df.drop('Close', 1), df['Close'], test_size=0.2, random_state=0, shuffle=False)"
      ],
      "metadata": {
        "id": "7c6f0jE-Eog8"
      },
      "execution_count": 18,
      "outputs": []
    },
    {
      "cell_type": "code",
      "source": [
        "x_train.shape, y_train.shape"
      ],
      "metadata": {
        "id": "aj8TWXbLEojj",
        "colab": {
          "base_uri": "https://localhost:8080/"
        },
        "outputId": "ff8f5a4c-084b-4c24-dc5c-9a26fbdf3106"
      },
      "execution_count": 19,
      "outputs": [
        {
          "output_type": "execute_result",
          "data": {
            "text/plain": [
              "((2702, 4), (2702,))"
            ]
          },
          "metadata": {},
          "execution_count": 19
        }
      ]
    },
    {
      "cell_type": "code",
      "source": [
        "x_test.shape, y_test.shape"
      ],
      "metadata": {
        "id": "O7lku51_Eols",
        "colab": {
          "base_uri": "https://localhost:8080/"
        },
        "outputId": "e7a63317-b60b-4c1e-d3fd-ad51efa304c7"
      },
      "execution_count": 20,
      "outputs": [
        {
          "output_type": "execute_result",
          "data": {
            "text/plain": [
              "((676, 4), (676,))"
            ]
          },
          "metadata": {},
          "execution_count": 20
        }
      ]
    },
    {
      "cell_type": "code",
      "source": [
        "x_train"
      ],
      "metadata": {
        "id": "5sIHLmj0EooI",
        "colab": {
          "base_uri": "https://localhost:8080/",
          "height": 419
        },
        "outputId": "b041935b-8d34-4eca-b8f9-ea08683a072c"
      },
      "execution_count": 21,
      "outputs": [
        {
          "output_type": "execute_result",
          "data": {
            "text/plain": [
              "          Open      High       Low    Volume\n",
              "0     0.195438  0.267084  0.189995  0.797567\n",
              "1     0.255054  0.264476  0.231985  0.072435\n",
              "2     0.242094  0.243349  0.232763  0.035872\n",
              "3     0.248056  0.264476  0.250907  0.029023\n",
              "4     0.273458  0.275952  0.255314  0.053444\n",
              "...        ...       ...       ...       ...\n",
              "2697  0.674443  0.672405  0.673147  0.011136\n",
              "2698  0.669777  0.666927  0.667963  0.008932\n",
              "2699  0.668222  0.663276  0.664593  0.010021\n",
              "2700  0.667185  0.660929  0.655262  0.013841\n",
              "2701  0.653447  0.647105  0.648523  0.016103\n",
              "\n",
              "[2702 rows x 4 columns]"
            ],
            "text/html": [
              "\n",
              "  <div id=\"df-5f90c4a6-6b6c-4798-9772-7fa6e16dc0a8\">\n",
              "    <div class=\"colab-df-container\">\n",
              "      <div>\n",
              "<style scoped>\n",
              "    .dataframe tbody tr th:only-of-type {\n",
              "        vertical-align: middle;\n",
              "    }\n",
              "\n",
              "    .dataframe tbody tr th {\n",
              "        vertical-align: top;\n",
              "    }\n",
              "\n",
              "    .dataframe thead th {\n",
              "        text-align: right;\n",
              "    }\n",
              "</style>\n",
              "<table border=\"1\" class=\"dataframe\">\n",
              "  <thead>\n",
              "    <tr style=\"text-align: right;\">\n",
              "      <th></th>\n",
              "      <th>Open</th>\n",
              "      <th>High</th>\n",
              "      <th>Low</th>\n",
              "      <th>Volume</th>\n",
              "    </tr>\n",
              "  </thead>\n",
              "  <tbody>\n",
              "    <tr>\n",
              "      <th>0</th>\n",
              "      <td>0.195438</td>\n",
              "      <td>0.267084</td>\n",
              "      <td>0.189995</td>\n",
              "      <td>0.797567</td>\n",
              "    </tr>\n",
              "    <tr>\n",
              "      <th>1</th>\n",
              "      <td>0.255054</td>\n",
              "      <td>0.264476</td>\n",
              "      <td>0.231985</td>\n",
              "      <td>0.072435</td>\n",
              "    </tr>\n",
              "    <tr>\n",
              "      <th>2</th>\n",
              "      <td>0.242094</td>\n",
              "      <td>0.243349</td>\n",
              "      <td>0.232763</td>\n",
              "      <td>0.035872</td>\n",
              "    </tr>\n",
              "    <tr>\n",
              "      <th>3</th>\n",
              "      <td>0.248056</td>\n",
              "      <td>0.264476</td>\n",
              "      <td>0.250907</td>\n",
              "      <td>0.029023</td>\n",
              "    </tr>\n",
              "    <tr>\n",
              "      <th>4</th>\n",
              "      <td>0.273458</td>\n",
              "      <td>0.275952</td>\n",
              "      <td>0.255314</td>\n",
              "      <td>0.053444</td>\n",
              "    </tr>\n",
              "    <tr>\n",
              "      <th>...</th>\n",
              "      <td>...</td>\n",
              "      <td>...</td>\n",
              "      <td>...</td>\n",
              "      <td>...</td>\n",
              "    </tr>\n",
              "    <tr>\n",
              "      <th>2697</th>\n",
              "      <td>0.674443</td>\n",
              "      <td>0.672405</td>\n",
              "      <td>0.673147</td>\n",
              "      <td>0.011136</td>\n",
              "    </tr>\n",
              "    <tr>\n",
              "      <th>2698</th>\n",
              "      <td>0.669777</td>\n",
              "      <td>0.666927</td>\n",
              "      <td>0.667963</td>\n",
              "      <td>0.008932</td>\n",
              "    </tr>\n",
              "    <tr>\n",
              "      <th>2699</th>\n",
              "      <td>0.668222</td>\n",
              "      <td>0.663276</td>\n",
              "      <td>0.664593</td>\n",
              "      <td>0.010021</td>\n",
              "    </tr>\n",
              "    <tr>\n",
              "      <th>2700</th>\n",
              "      <td>0.667185</td>\n",
              "      <td>0.660929</td>\n",
              "      <td>0.655262</td>\n",
              "      <td>0.013841</td>\n",
              "    </tr>\n",
              "    <tr>\n",
              "      <th>2701</th>\n",
              "      <td>0.653447</td>\n",
              "      <td>0.647105</td>\n",
              "      <td>0.648523</td>\n",
              "      <td>0.016103</td>\n",
              "    </tr>\n",
              "  </tbody>\n",
              "</table>\n",
              "<p>2702 rows × 4 columns</p>\n",
              "</div>\n",
              "      <button class=\"colab-df-convert\" onclick=\"convertToInteractive('df-5f90c4a6-6b6c-4798-9772-7fa6e16dc0a8')\"\n",
              "              title=\"Convert this dataframe to an interactive table.\"\n",
              "              style=\"display:none;\">\n",
              "        \n",
              "  <svg xmlns=\"http://www.w3.org/2000/svg\" height=\"24px\"viewBox=\"0 0 24 24\"\n",
              "       width=\"24px\">\n",
              "    <path d=\"M0 0h24v24H0V0z\" fill=\"none\"/>\n",
              "    <path d=\"M18.56 5.44l.94 2.06.94-2.06 2.06-.94-2.06-.94-.94-2.06-.94 2.06-2.06.94zm-11 1L8.5 8.5l.94-2.06 2.06-.94-2.06-.94L8.5 2.5l-.94 2.06-2.06.94zm10 10l.94 2.06.94-2.06 2.06-.94-2.06-.94-.94-2.06-.94 2.06-2.06.94z\"/><path d=\"M17.41 7.96l-1.37-1.37c-.4-.4-.92-.59-1.43-.59-.52 0-1.04.2-1.43.59L10.3 9.45l-7.72 7.72c-.78.78-.78 2.05 0 2.83L4 21.41c.39.39.9.59 1.41.59.51 0 1.02-.2 1.41-.59l7.78-7.78 2.81-2.81c.8-.78.8-2.07 0-2.86zM5.41 20L4 18.59l7.72-7.72 1.47 1.35L5.41 20z\"/>\n",
              "  </svg>\n",
              "      </button>\n",
              "      \n",
              "  <style>\n",
              "    .colab-df-container {\n",
              "      display:flex;\n",
              "      flex-wrap:wrap;\n",
              "      gap: 12px;\n",
              "    }\n",
              "\n",
              "    .colab-df-convert {\n",
              "      background-color: #E8F0FE;\n",
              "      border: none;\n",
              "      border-radius: 50%;\n",
              "      cursor: pointer;\n",
              "      display: none;\n",
              "      fill: #1967D2;\n",
              "      height: 32px;\n",
              "      padding: 0 0 0 0;\n",
              "      width: 32px;\n",
              "    }\n",
              "\n",
              "    .colab-df-convert:hover {\n",
              "      background-color: #E2EBFA;\n",
              "      box-shadow: 0px 1px 2px rgba(60, 64, 67, 0.3), 0px 1px 3px 1px rgba(60, 64, 67, 0.15);\n",
              "      fill: #174EA6;\n",
              "    }\n",
              "\n",
              "    [theme=dark] .colab-df-convert {\n",
              "      background-color: #3B4455;\n",
              "      fill: #D2E3FC;\n",
              "    }\n",
              "\n",
              "    [theme=dark] .colab-df-convert:hover {\n",
              "      background-color: #434B5C;\n",
              "      box-shadow: 0px 1px 3px 1px rgba(0, 0, 0, 0.15);\n",
              "      filter: drop-shadow(0px 1px 2px rgba(0, 0, 0, 0.3));\n",
              "      fill: #FFFFFF;\n",
              "    }\n",
              "  </style>\n",
              "\n",
              "      <script>\n",
              "        const buttonEl =\n",
              "          document.querySelector('#df-5f90c4a6-6b6c-4798-9772-7fa6e16dc0a8 button.colab-df-convert');\n",
              "        buttonEl.style.display =\n",
              "          google.colab.kernel.accessAllowed ? 'block' : 'none';\n",
              "\n",
              "        async function convertToInteractive(key) {\n",
              "          const element = document.querySelector('#df-5f90c4a6-6b6c-4798-9772-7fa6e16dc0a8');\n",
              "          const dataTable =\n",
              "            await google.colab.kernel.invokeFunction('convertToInteractive',\n",
              "                                                     [key], {});\n",
              "          if (!dataTable) return;\n",
              "\n",
              "          const docLinkHtml = 'Like what you see? Visit the ' +\n",
              "            '<a target=\"_blank\" href=https://colab.research.google.com/notebooks/data_table.ipynb>data table notebook</a>'\n",
              "            + ' to learn more about interactive tables.';\n",
              "          element.innerHTML = '';\n",
              "          dataTable['output_type'] = 'display_data';\n",
              "          await google.colab.output.renderOutput(dataTable, element);\n",
              "          const docLink = document.createElement('div');\n",
              "          docLink.innerHTML = docLinkHtml;\n",
              "          element.appendChild(docLink);\n",
              "        }\n",
              "      </script>\n",
              "    </div>\n",
              "  </div>\n",
              "  "
            ]
          },
          "metadata": {},
          "execution_count": 21
        }
      ]
    },
    {
      "cell_type": "code",
      "source": [
        "import tensorflow as tf"
      ],
      "metadata": {
        "id": "K77UvGYnEu_4"
      },
      "execution_count": 22,
      "outputs": []
    },
    {
      "cell_type": "code",
      "source": [
        "def windowed_dataset(series, window_size, batch_size, shuffle):\n",
        "    series = tf.expand_dims(series, axis=-1)\n",
        "    data_set = tf.data.Dataset.from_tensor_slices(series)\n",
        "    data_set = data_set.window(window_size + 1, shift=1, drop_remainder=True)\n",
        "    data_set = data_set.flat_map(lambda w: w.batch(window_size + 1))\n",
        "    if shuffle:\n",
        "        data_set = data_set.shuffle(1000)\n",
        "    data_set = data_set.map(lambda w: (w[:-1], w[-1]))\n",
        "    return data_set.batch(batch_size).prefetch(1)"
      ],
      "metadata": {
        "id": "IzpKGPyjEvCI"
      },
      "execution_count": 23,
      "outputs": []
    },
    {
      "cell_type": "code",
      "source": [
        "window=20\n",
        "batch=32"
      ],
      "metadata": {
        "id": "izjN-kgpEvEw"
      },
      "execution_count": 24,
      "outputs": []
    },
    {
      "cell_type": "code",
      "source": [
        "# trian_data is for train dataset, test_data is for prediction\n",
        "train_data_set = windowed_dataset(y_train, window, batch, True)\n",
        "test_data_set = windowed_dataset(y_test, window, batch, False)"
      ],
      "metadata": {
        "id": "u0SY94E7EvHE"
      },
      "execution_count": 25,
      "outputs": []
    },
    {
      "cell_type": "code",
      "source": [
        "\n",
        "# X: (batch, window, feature)\n",
        "# Y: (batch, feature)\n",
        "for data in train_data_set.take(1):\n",
        "    print(f'dataset(X) composed (batch, window, feature): {data[0].shape}')\n",
        "    print(f'dataset(Y) composed (batch, feature): {data[1].shape}')"
      ],
      "metadata": {
        "id": "c1C-5F7UJIcp",
        "colab": {
          "base_uri": "https://localhost:8080/"
        },
        "outputId": "0ff67e81-6570-4021-d4e3-9fd7eb881fa6"
      },
      "execution_count": 26,
      "outputs": [
        {
          "output_type": "stream",
          "name": "stdout",
          "text": [
            "dataset(X) composed (batch, window, feature): (32, 20, 1)\n",
            "dataset(Y) composed (batch, feature): (32, 1)\n"
          ]
        }
      ]
    },
    {
      "cell_type": "code",
      "source": [
        "from tensorflow.keras.models import Sequential\n",
        "from tensorflow.keras.layers import Dense, LSTM, Conv1D, Lambda\n",
        "from tensorflow.keras.losses import Huber\n",
        "from tensorflow.keras.optimizers import Adam\n",
        "from tensorflow.keras.callbacks import EarlyStopping, ModelCheckpoint\n",
        "\n",
        "model = Sequential([\n",
        "    # 1차원 feature map 생성\n",
        "    Conv1D(filters=32, kernel_size=5,\n",
        "           padding=\"causal\",\n",
        "           activation=\"relu\",\n",
        "           input_shape=[window, 1]),\n",
        "    # LSTM\n",
        "    LSTM(16, activation='tanh'),\n",
        "    Dense(16, activation=\"relu\"),\n",
        "    Dense(1),\n",
        "])"
      ],
      "metadata": {
        "id": "0tlx2-vOJIhI"
      },
      "execution_count": 27,
      "outputs": []
    },
    {
      "cell_type": "code",
      "source": [
        "# use huber() for better performance for Sequence\n",
        "loss = Huber()\n",
        "optimizer = Adam(0.0005)\n",
        "model.compile(loss=Huber(), optimizer=optimizer, metrics=['accuracy'])"
      ],
      "metadata": {
        "id": "M75OEjv3JIl4"
      },
      "execution_count": 28,
      "outputs": []
    },
    {
      "cell_type": "code",
      "source": [
        "# order to stop reading the data if there is no val_loss within 10 times of epoch in earlystopping\n",
        "earlystopping = EarlyStopping(monitor='val_loss', patience=20)\n",
        "\n",
        "# create checkpoint for standard of val_loss\n",
        "filename = os.path.join('tmp', 'ckeckpointer.ckpt')\n",
        "check = ModelCheckpoint(filename,\n",
        "                             save_weights_only=True,\n",
        "                             save_best_only=True,\n",
        "                             monitor='val_loss',\n",
        "                             verbose=1)"
      ],
      "metadata": {
        "id": "b2LfPe5FJIqr"
      },
      "execution_count": 29,
      "outputs": []
    },
    {
      "cell_type": "code",
      "source": [
        "history = model.fit(test_data_set, \n",
        "                    validation_data=(test_data_set), \n",
        "                    epochs=50, \n",
        "                    callbacks=[check, earlystopping])"
      ],
      "metadata": {
        "id": "5ad_xiOPMvPc",
        "colab": {
          "base_uri": "https://localhost:8080/"
        },
        "outputId": "9e20c3f5-1c7f-43b2-fcb6-baf3275db9b6"
      },
      "execution_count": 33,
      "outputs": [
        {
          "output_type": "stream",
          "name": "stdout",
          "text": [
            "Epoch 1/50\n",
            "     17/Unknown - 4s 10ms/step - loss: 0.2664 - accuracy: 0.0000e+00\n",
            "Epoch 1: val_loss improved from inf to 0.22249, saving model to tmp/ckeckpointer.ckpt\n",
            "21/21 [==============================] - 4s 49ms/step - loss: 0.2726 - accuracy: 0.0000e+00 - val_loss: 0.2225 - val_accuracy: 0.0000e+00\n",
            "Epoch 2/50\n",
            "16/21 [=====================>........] - ETA: 0s - loss: 0.1672 - accuracy: 0.0000e+00\n",
            "Epoch 2: val_loss improved from 0.22249 to 0.10561, saving model to tmp/ckeckpointer.ckpt\n",
            "21/21 [==============================] - 0s 18ms/step - loss: 0.1648 - accuracy: 0.0000e+00 - val_loss: 0.1056 - val_accuracy: 0.0000e+00\n",
            "Epoch 3/50\n",
            "17/21 [=======================>......] - ETA: 0s - loss: 0.0569 - accuracy: 0.0018    \n",
            "Epoch 3: val_loss improved from 0.10561 to 0.01385, saving model to tmp/ckeckpointer.ckpt\n",
            "21/21 [==============================] - 0s 18ms/step - loss: 0.0531 - accuracy: 0.0015 - val_loss: 0.0139 - val_accuracy: 0.0015\n",
            "Epoch 4/50\n",
            "16/21 [=====================>........] - ETA: 0s - loss: 0.0027 - accuracy: 0.0020    \n",
            "Epoch 4: val_loss improved from 0.01385 to 0.00468, saving model to tmp/ckeckpointer.ckpt\n",
            "21/21 [==============================] - 0s 18ms/step - loss: 0.0023 - accuracy: 0.0015 - val_loss: 0.0047 - val_accuracy: 0.0015\n",
            "Epoch 5/50\n",
            "17/21 [=======================>......] - ETA: 0s - loss: 0.0049 - accuracy: 0.0018    \n",
            "Epoch 5: val_loss improved from 0.00468 to 0.00274, saving model to tmp/ckeckpointer.ckpt\n",
            "21/21 [==============================] - 0s 19ms/step - loss: 0.0044 - accuracy: 0.0015 - val_loss: 0.0027 - val_accuracy: 0.0015\n",
            "Epoch 6/50\n",
            "18/21 [========================>.....] - ETA: 0s - loss: 0.0033 - accuracy: 0.0017    \n",
            "Epoch 6: val_loss improved from 0.00274 to 0.00264, saving model to tmp/ckeckpointer.ckpt\n",
            "21/21 [==============================] - 0s 18ms/step - loss: 0.0031 - accuracy: 0.0015 - val_loss: 0.0026 - val_accuracy: 0.0015\n",
            "Epoch 7/50\n",
            "21/21 [==============================] - ETA: 0s - loss: 0.0028 - accuracy: 0.0015\n",
            "Epoch 7: val_loss improved from 0.00264 to 0.00258, saving model to tmp/ckeckpointer.ckpt\n",
            "21/21 [==============================] - 0s 18ms/step - loss: 0.0028 - accuracy: 0.0015 - val_loss: 0.0026 - val_accuracy: 0.0015\n",
            "Epoch 8/50\n",
            "17/21 [=======================>......] - ETA: 0s - loss: 0.0031 - accuracy: 0.0018    \n",
            "Epoch 8: val_loss improved from 0.00258 to 0.00242, saving model to tmp/ckeckpointer.ckpt\n",
            "21/21 [==============================] - 0s 17ms/step - loss: 0.0028 - accuracy: 0.0015 - val_loss: 0.0024 - val_accuracy: 0.0015\n",
            "Epoch 9/50\n",
            "16/21 [=====================>........] - ETA: 0s - loss: 0.0030 - accuracy: 0.0020    \n",
            "Epoch 9: val_loss improved from 0.00242 to 0.00231, saving model to tmp/ckeckpointer.ckpt\n",
            "21/21 [==============================] - 0s 20ms/step - loss: 0.0027 - accuracy: 0.0015 - val_loss: 0.0023 - val_accuracy: 0.0015\n",
            "Epoch 10/50\n",
            "17/21 [=======================>......] - ETA: 0s - loss: 0.0028 - accuracy: 0.0018    \n",
            "Epoch 10: val_loss improved from 0.00231 to 0.00218, saving model to tmp/ckeckpointer.ckpt\n",
            "21/21 [==============================] - 0s 18ms/step - loss: 0.0026 - accuracy: 0.0015 - val_loss: 0.0022 - val_accuracy: 0.0015\n",
            "Epoch 11/50\n",
            "17/21 [=======================>......] - ETA: 0s - loss: 0.0026 - accuracy: 0.0018    \n",
            "Epoch 11: val_loss improved from 0.00218 to 0.00206, saving model to tmp/ckeckpointer.ckpt\n",
            "21/21 [==============================] - 0s 19ms/step - loss: 0.0024 - accuracy: 0.0015 - val_loss: 0.0021 - val_accuracy: 0.0015\n",
            "Epoch 12/50\n",
            "17/21 [=======================>......] - ETA: 0s - loss: 0.0025 - accuracy: 0.0018    \n",
            "Epoch 12: val_loss improved from 0.00206 to 0.00194, saving model to tmp/ckeckpointer.ckpt\n",
            "21/21 [==============================] - 0s 17ms/step - loss: 0.0023 - accuracy: 0.0015 - val_loss: 0.0019 - val_accuracy: 0.0015\n",
            "Epoch 13/50\n",
            "16/21 [=====================>........] - ETA: 0s - loss: 0.0024 - accuracy: 0.0020    \n",
            "Epoch 13: val_loss improved from 0.00194 to 0.00182, saving model to tmp/ckeckpointer.ckpt\n",
            "21/21 [==============================] - 0s 17ms/step - loss: 0.0021 - accuracy: 0.0015 - val_loss: 0.0018 - val_accuracy: 0.0015\n",
            "Epoch 14/50\n",
            "18/21 [========================>.....] - ETA: 0s - loss: 0.0022 - accuracy: 0.0017    \n",
            "Epoch 14: val_loss improved from 0.00182 to 0.00171, saving model to tmp/ckeckpointer.ckpt\n",
            "21/21 [==============================] - 0s 17ms/step - loss: 0.0020 - accuracy: 0.0015 - val_loss: 0.0017 - val_accuracy: 0.0015\n",
            "Epoch 15/50\n",
            "16/21 [=====================>........] - ETA: 0s - loss: 0.0022 - accuracy: 0.0020    \n",
            "Epoch 15: val_loss improved from 0.00171 to 0.00161, saving model to tmp/ckeckpointer.ckpt\n",
            "21/21 [==============================] - 0s 16ms/step - loss: 0.0019 - accuracy: 0.0015 - val_loss: 0.0016 - val_accuracy: 0.0015\n",
            "Epoch 16/50\n",
            "16/21 [=====================>........] - ETA: 0s - loss: 0.0020 - accuracy: 0.0020    \n",
            "Epoch 16: val_loss improved from 0.00161 to 0.00157, saving model to tmp/ckeckpointer.ckpt\n",
            "21/21 [==============================] - 0s 18ms/step - loss: 0.0018 - accuracy: 0.0015 - val_loss: 0.0016 - val_accuracy: 0.0015\n",
            "Epoch 17/50\n",
            "16/21 [=====================>........] - ETA: 0s - loss: 0.0019 - accuracy: 0.0020    \n",
            "Epoch 17: val_loss improved from 0.00157 to 0.00140, saving model to tmp/ckeckpointer.ckpt\n",
            "21/21 [==============================] - 0s 19ms/step - loss: 0.0017 - accuracy: 0.0015 - val_loss: 0.0014 - val_accuracy: 0.0015\n",
            "Epoch 18/50\n",
            "16/21 [=====================>........] - ETA: 0s - loss: 0.0017 - accuracy: 0.0020    \n",
            "Epoch 18: val_loss improved from 0.00140 to 0.00126, saving model to tmp/ckeckpointer.ckpt\n",
            "21/21 [==============================] - 0s 20ms/step - loss: 0.0015 - accuracy: 0.0015 - val_loss: 0.0013 - val_accuracy: 0.0015\n",
            "Epoch 19/50\n",
            "16/21 [=====================>........] - ETA: 0s - loss: 0.0016 - accuracy: 0.0020    \n",
            "Epoch 19: val_loss did not improve from 0.00126\n",
            "21/21 [==============================] - 0s 19ms/step - loss: 0.0014 - accuracy: 0.0015 - val_loss: 0.0013 - val_accuracy: 0.0015\n",
            "Epoch 20/50\n",
            "17/21 [=======================>......] - ETA: 0s - loss: 0.0015 - accuracy: 0.0018    \n",
            "Epoch 20: val_loss improved from 0.00126 to 0.00125, saving model to tmp/ckeckpointer.ckpt\n",
            "21/21 [==============================] - 0s 17ms/step - loss: 0.0013 - accuracy: 0.0015 - val_loss: 0.0012 - val_accuracy: 0.0015\n",
            "Epoch 21/50\n",
            "16/21 [=====================>........] - ETA: 0s - loss: 0.0014 - accuracy: 0.0020        \n",
            "Epoch 21: val_loss improved from 0.00125 to 0.00116, saving model to tmp/ckeckpointer.ckpt\n",
            "21/21 [==============================] - 0s 17ms/step - loss: 0.0013 - accuracy: 0.0015 - val_loss: 0.0012 - val_accuracy: 0.0015\n",
            "Epoch 22/50\n",
            "16/21 [=====================>........] - ETA: 0s - loss: 0.0013 - accuracy: 0.0020        \n",
            "Epoch 22: val_loss improved from 0.00116 to 0.00107, saving model to tmp/ckeckpointer.ckpt\n",
            "21/21 [==============================] - 0s 20ms/step - loss: 0.0012 - accuracy: 0.0015 - val_loss: 0.0011 - val_accuracy: 0.0015\n",
            "Epoch 23/50\n",
            "21/21 [==============================] - ETA: 0s - loss: 0.0011 - accuracy: 0.0015\n",
            "Epoch 23: val_loss improved from 0.00107 to 0.00096, saving model to tmp/ckeckpointer.ckpt\n",
            "21/21 [==============================] - 0s 20ms/step - loss: 0.0011 - accuracy: 0.0015 - val_loss: 9.5823e-04 - val_accuracy: 0.0015\n",
            "Epoch 24/50\n",
            "21/21 [==============================] - ETA: 0s - loss: 9.6701e-04 - accuracy: 0.0015\n",
            "Epoch 24: val_loss improved from 0.00096 to 0.00087, saving model to tmp/ckeckpointer.ckpt\n",
            "21/21 [==============================] - 0s 20ms/step - loss: 9.6701e-04 - accuracy: 0.0015 - val_loss: 8.6758e-04 - val_accuracy: 0.0015\n",
            "Epoch 25/50\n",
            "16/21 [=====================>........] - ETA: 0s - loss: 9.9776e-04 - accuracy: 0.0020    \n",
            "Epoch 25: val_loss improved from 0.00087 to 0.00083, saving model to tmp/ckeckpointer.ckpt\n",
            "21/21 [==============================] - 0s 18ms/step - loss: 9.2132e-04 - accuracy: 0.0015 - val_loss: 8.3024e-04 - val_accuracy: 0.0015\n",
            "Epoch 26/50\n",
            "17/21 [=======================>......] - ETA: 0s - loss: 9.5147e-04 - accuracy: 0.0018    \n",
            "Epoch 26: val_loss improved from 0.00083 to 0.00081, saving model to tmp/ckeckpointer.ckpt\n",
            "21/21 [==============================] - 0s 20ms/step - loss: 9.0408e-04 - accuracy: 0.0015 - val_loss: 8.0966e-04 - val_accuracy: 0.0015\n",
            "Epoch 27/50\n",
            "18/21 [========================>.....] - ETA: 0s - loss: 9.0727e-04 - accuracy: 0.0017    \n",
            "Epoch 27: val_loss improved from 0.00081 to 0.00080, saving model to tmp/ckeckpointer.ckpt\n",
            "21/21 [==============================] - 0s 17ms/step - loss: 8.9390e-04 - accuracy: 0.0015 - val_loss: 7.9617e-04 - val_accuracy: 0.0015\n",
            "Epoch 28/50\n",
            "20/21 [===========================>..] - ETA: 0s - loss: 9.0202e-04 - accuracy: 0.0016\n",
            "Epoch 28: val_loss improved from 0.00080 to 0.00079, saving model to tmp/ckeckpointer.ckpt\n",
            "21/21 [==============================] - 0s 19ms/step - loss: 8.8374e-04 - accuracy: 0.0015 - val_loss: 7.8712e-04 - val_accuracy: 0.0015\n",
            "Epoch 29/50\n",
            "16/21 [=====================>........] - ETA: 0s - loss: 9.3891e-04 - accuracy: 0.0020    \n",
            "Epoch 29: val_loss improved from 0.00079 to 0.00078, saving model to tmp/ckeckpointer.ckpt\n",
            "21/21 [==============================] - 0s 20ms/step - loss: 8.7484e-04 - accuracy: 0.0015 - val_loss: 7.7774e-04 - val_accuracy: 0.0015\n",
            "Epoch 30/50\n",
            "16/21 [=====================>........] - ETA: 0s - loss: 9.2815e-04 - accuracy: 0.0020    \n",
            "Epoch 30: val_loss improved from 0.00078 to 0.00077, saving model to tmp/ckeckpointer.ckpt\n",
            "21/21 [==============================] - 0s 18ms/step - loss: 8.6569e-04 - accuracy: 0.0015 - val_loss: 7.6877e-04 - val_accuracy: 0.0015\n",
            "Epoch 31/50\n",
            "16/21 [=====================>........] - ETA: 0s - loss: 9.1735e-04 - accuracy: 0.0020    \n",
            "Epoch 31: val_loss improved from 0.00077 to 0.00076, saving model to tmp/ckeckpointer.ckpt\n",
            "21/21 [==============================] - 0s 20ms/step - loss: 8.5605e-04 - accuracy: 0.0015 - val_loss: 7.6078e-04 - val_accuracy: 0.0015\n",
            "Epoch 32/50\n",
            "21/21 [==============================] - ETA: 0s - loss: 8.4876e-04 - accuracy: 0.0015\n",
            "Epoch 32: val_loss improved from 0.00076 to 0.00076, saving model to tmp/ckeckpointer.ckpt\n",
            "21/21 [==============================] - 0s 21ms/step - loss: 8.4876e-04 - accuracy: 0.0015 - val_loss: 7.5534e-04 - val_accuracy: 0.0015\n",
            "Epoch 33/50\n",
            "16/21 [=====================>........] - ETA: 0s - loss: 9.0702e-04 - accuracy: 0.0020    \n",
            "Epoch 33: val_loss improved from 0.00076 to 0.00075, saving model to tmp/ckeckpointer.ckpt\n",
            "21/21 [==============================] - 0s 20ms/step - loss: 8.4602e-04 - accuracy: 0.0015 - val_loss: 7.4849e-04 - val_accuracy: 0.0015\n",
            "Epoch 34/50\n",
            "21/21 [==============================] - ETA: 0s - loss: 8.4138e-04 - accuracy: 0.0015\n",
            "Epoch 34: val_loss improved from 0.00075 to 0.00074, saving model to tmp/ckeckpointer.ckpt\n",
            "21/21 [==============================] - 0s 18ms/step - loss: 8.4138e-04 - accuracy: 0.0015 - val_loss: 7.3867e-04 - val_accuracy: 0.0015\n",
            "Epoch 35/50\n",
            "17/21 [=======================>......] - ETA: 0s - loss: 8.7606e-04 - accuracy: 0.0018    \n",
            "Epoch 35: val_loss improved from 0.00074 to 0.00073, saving model to tmp/ckeckpointer.ckpt\n",
            "21/21 [==============================] - 0s 17ms/step - loss: 8.3491e-04 - accuracy: 0.0015 - val_loss: 7.3082e-04 - val_accuracy: 0.0015\n",
            "Epoch 36/50\n",
            "15/21 [====================>.........] - ETA: 0s - loss: 9.0111e-04 - accuracy: 0.0021    \n",
            "Epoch 36: val_loss improved from 0.00073 to 0.00072, saving model to tmp/ckeckpointer.ckpt\n",
            "21/21 [==============================] - 0s 19ms/step - loss: 8.2794e-04 - accuracy: 0.0015 - val_loss: 7.2391e-04 - val_accuracy: 0.0015\n",
            "Epoch 37/50\n",
            "16/21 [=====================>........] - ETA: 0s - loss: 8.7761e-04 - accuracy: 0.0020    \n",
            "Epoch 37: val_loss improved from 0.00072 to 0.00072, saving model to tmp/ckeckpointer.ckpt\n",
            "21/21 [==============================] - 0s 18ms/step - loss: 8.2007e-04 - accuracy: 0.0015 - val_loss: 7.1772e-04 - val_accuracy: 0.0015\n",
            "Epoch 38/50\n",
            "16/21 [=====================>........] - ETA: 0s - loss: 8.7080e-04 - accuracy: 0.0020    \n",
            "Epoch 38: val_loss improved from 0.00072 to 0.00071, saving model to tmp/ckeckpointer.ckpt\n",
            "21/21 [==============================] - 0s 18ms/step - loss: 8.1432e-04 - accuracy: 0.0015 - val_loss: 7.1259e-04 - val_accuracy: 0.0015\n",
            "Epoch 39/50\n",
            "16/21 [=====================>........] - ETA: 0s - loss: 8.6581e-04 - accuracy: 0.0020    \n",
            "Epoch 39: val_loss improved from 0.00071 to 0.00071, saving model to tmp/ckeckpointer.ckpt\n",
            "21/21 [==============================] - 0s 20ms/step - loss: 8.0973e-04 - accuracy: 0.0015 - val_loss: 7.0761e-04 - val_accuracy: 0.0015\n",
            "Epoch 40/50\n",
            "21/21 [==============================] - ETA: 0s - loss: 8.0490e-04 - accuracy: 0.0015\n",
            "Epoch 40: val_loss improved from 0.00071 to 0.00070, saving model to tmp/ckeckpointer.ckpt\n",
            "21/21 [==============================] - 0s 19ms/step - loss: 8.0490e-04 - accuracy: 0.0015 - val_loss: 7.0273e-04 - val_accuracy: 0.0015\n",
            "Epoch 41/50\n",
            "20/21 [===========================>..] - ETA: 0s - loss: 8.1567e-04 - accuracy: 0.0016\n",
            "Epoch 41: val_loss improved from 0.00070 to 0.00070, saving model to tmp/ckeckpointer.ckpt\n",
            "21/21 [==============================] - 1s 25ms/step - loss: 8.0021e-04 - accuracy: 0.0015 - val_loss: 6.9818e-04 - val_accuracy: 0.0015\n",
            "Epoch 42/50\n",
            "18/21 [========================>.....] - ETA: 0s - loss: 8.0663e-04 - accuracy: 0.0017\n",
            "Epoch 42: val_loss improved from 0.00070 to 0.00069, saving model to tmp/ckeckpointer.ckpt\n",
            "21/21 [==============================] - 1s 36ms/step - loss: 7.9645e-04 - accuracy: 0.0015 - val_loss: 6.9377e-04 - val_accuracy: 0.0015\n",
            "Epoch 43/50\n",
            "20/21 [===========================>..] - ETA: 0s - loss: 8.0856e-04 - accuracy: 0.0016\n",
            "Epoch 43: val_loss improved from 0.00069 to 0.00069, saving model to tmp/ckeckpointer.ckpt\n",
            "21/21 [==============================] - 0s 21ms/step - loss: 7.9341e-04 - accuracy: 0.0015 - val_loss: 6.8970e-04 - val_accuracy: 0.0015\n",
            "Epoch 44/50\n",
            "17/21 [=======================>......] - ETA: 0s - loss: 8.2796e-04 - accuracy: 0.0018    \n",
            "Epoch 44: val_loss improved from 0.00069 to 0.00069, saving model to tmp/ckeckpointer.ckpt\n",
            "21/21 [==============================] - 0s 24ms/step - loss: 7.8955e-04 - accuracy: 0.0015 - val_loss: 6.8520e-04 - val_accuracy: 0.0015\n",
            "Epoch 45/50\n",
            "17/21 [=======================>......] - ETA: 0s - loss: 8.2524e-04 - accuracy: 0.0018\n",
            "Epoch 45: val_loss improved from 0.00069 to 0.00068, saving model to tmp/ckeckpointer.ckpt\n",
            "21/21 [==============================] - 1s 25ms/step - loss: 7.8669e-04 - accuracy: 0.0015 - val_loss: 6.8124e-04 - val_accuracy: 0.0015\n",
            "Epoch 46/50\n",
            "21/21 [==============================] - ETA: 0s - loss: 7.8441e-04 - accuracy: 0.0015\n",
            "Epoch 46: val_loss improved from 0.00068 to 0.00068, saving model to tmp/ckeckpointer.ckpt\n",
            "21/21 [==============================] - 1s 28ms/step - loss: 7.8441e-04 - accuracy: 0.0015 - val_loss: 6.7778e-04 - val_accuracy: 0.0015\n",
            "Epoch 47/50\n",
            "19/21 [==========================>...] - ETA: 0s - loss: 7.8215e-04 - accuracy: 0.0016\n",
            "Epoch 47: val_loss improved from 0.00068 to 0.00067, saving model to tmp/ckeckpointer.ckpt\n",
            "21/21 [==============================] - 1s 34ms/step - loss: 7.8206e-04 - accuracy: 0.0015 - val_loss: 6.7318e-04 - val_accuracy: 0.0015\n",
            "Epoch 48/50\n",
            "17/21 [=======================>......] - ETA: 0s - loss: 8.1896e-04 - accuracy: 0.0018    \n",
            "Epoch 48: val_loss improved from 0.00067 to 0.00067, saving model to tmp/ckeckpointer.ckpt\n",
            "21/21 [==============================] - 1s 28ms/step - loss: 7.7978e-04 - accuracy: 0.0015 - val_loss: 6.6941e-04 - val_accuracy: 0.0015\n",
            "Epoch 49/50\n",
            "20/21 [===========================>..] - ETA: 0s - loss: 7.9137e-04 - accuracy: 0.0016\n",
            "Epoch 49: val_loss improved from 0.00067 to 0.00067, saving model to tmp/ckeckpointer.ckpt\n",
            "21/21 [==============================] - 1s 28ms/step - loss: 7.7699e-04 - accuracy: 0.0015 - val_loss: 6.6633e-04 - val_accuracy: 0.0015\n",
            "Epoch 50/50\n",
            "17/21 [=======================>......] - ETA: 0s - loss: 8.1417e-04 - accuracy: 0.0018    \n",
            "Epoch 50: val_loss improved from 0.00067 to 0.00066, saving model to tmp/ckeckpointer.ckpt\n",
            "21/21 [==============================] - 0s 18ms/step - loss: 7.7475e-04 - accuracy: 0.0015 - val_loss: 6.6239e-04 - val_accuracy: 0.0015\n"
          ]
        }
      ]
    },
    {
      "cell_type": "code",
      "source": [
        "# load saved ModelCheckpoint\n",
        "model.load_weights(filename)"
      ],
      "metadata": {
        "id": "TdqVdTWkMvSt",
        "colab": {
          "base_uri": "https://localhost:8080/"
        },
        "outputId": "2f1e9a10-509c-4ca6-e198-582c3c40eb28"
      },
      "execution_count": 34,
      "outputs": [
        {
          "output_type": "execute_result",
          "data": {
            "text/plain": [
              "<tensorflow.python.training.tracking.util.CheckpointLoadStatus at 0x7f4205f0be90>"
            ]
          },
          "metadata": {},
          "execution_count": 34
        }
      ]
    },
    {
      "cell_type": "code",
      "source": [
        "# process to predict by using test_data\n",
        "predict = model.predict(test_data_set)"
      ],
      "metadata": {
        "id": "8lJk8K7NQRQA"
      },
      "execution_count": 36,
      "outputs": []
    },
    {
      "cell_type": "code",
      "source": [
        "predict.shape"
      ],
      "metadata": {
        "colab": {
          "base_uri": "https://localhost:8080/"
        },
        "id": "N9t6pme5QRSZ",
        "outputId": "7c1a97fc-8759-45ed-ccbb-f313f63e3b22"
      },
      "execution_count": 37,
      "outputs": [
        {
          "output_type": "execute_result",
          "data": {
            "text/plain": [
              "(656, 1)"
            ]
          },
          "metadata": {},
          "execution_count": 37
        }
      ]
    },
    {
      "cell_type": "code",
      "source": [
        "# 아래 시각화 코드중 y_test 데이터에 [20:]으로 슬라이싱을 한 이유는\n",
        "#예측 데이터에서 20일치의 데이터로 21일치를 예측해야하기 때문에 test_data로 예측 시 앞의 20일은 예측하지 않습니다.\n",
        "# 따라서, 20번 째 index와 비교하면 더욱 정확합니다.plt.figure(figsize=(12, 9))\n",
        "# 숫자 0-600은 일수를 말하고, 0-1.0은 스케이이 된 주가의 값을 말한다. 수를 0-1까지 지정했기때문에\n",
        "plt.plot(np.asarray(y_test)[20:], label='actual')\n",
        "plt.plot(predict, label='prediction')\n",
        "plt.legend()\n",
        "plt.show()"
      ],
      "metadata": {
        "colab": {
          "base_uri": "https://localhost:8080/",
          "height": 265
        },
        "id": "i22I1G0_QRUm",
        "outputId": "94d74f21-c306-49b6-fdbd-a2d38b0bd535"
      },
      "execution_count": 39,
      "outputs": [
        {
          "output_type": "display_data",
          "data": {
            "text/plain": [
              "<Figure size 432x288 with 1 Axes>"
            ],
            "image/png": "[encoded data removed]"
          },
          "metadata": {
            "needs_background": "light"
          }
        }
      ]
    },
    {
      "cell_type": "code",
      "source": [
        "np.asarray(y_test).shape"
      ],
      "metadata": {
        "colab": {
          "base_uri": "https://localhost:8080/"
        },
        "id": "zutn_stAQRXP",
        "outputId": "da66e891-819c-4572-e566-5c52e340d210"
      },
      "execution_count": 40,
      "outputs": [
        {
          "output_type": "execute_result",
          "data": {
            "text/plain": [
              "(676,)"
            ]
          },
          "metadata": {},
          "execution_count": 40
        }
      ]
    }
  ]
}